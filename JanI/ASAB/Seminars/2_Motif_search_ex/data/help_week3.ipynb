{
 "cells": [
  {
   "cell_type": "markdown",
   "id": "49b448b0",
   "metadata": {},
   "source": [
    "# Read and write sequence files with Biopython\n",
    "## Read a *.fasta* file with Biopython"
   ]
  },
  {
   "cell_type": "code",
   "execution_count": null,
   "id": "5b8482ad",
   "metadata": {},
   "outputs": [],
   "source": [
    "from Bio import SeqIO"
   ]
  },
  {
   "cell_type": "code",
   "execution_count": null,
   "id": "9041c0d7",
   "metadata": {},
   "outputs": [],
   "source": [
    "records = SeqIO.parse(\"fastcats.fasta\", \"fasta\")\n",
    "records"
   ]
  },
  {
   "cell_type": "markdown",
   "id": "49415e51",
   "metadata": {},
   "source": [
    "*records* is an object of type **iterator**"
   ]
  },
  {
   "cell_type": "code",
   "execution_count": null,
   "id": "3fc3dfb5",
   "metadata": {},
   "outputs": [],
   "source": [
    "for record in records:\n",
    "    print(record)\n",
    "    print(\"____\")"
   ]
  },
  {
   "cell_type": "markdown",
   "id": "e1e4ed40",
   "metadata": {},
   "source": [
    "Keep in mind that iterating an *iterator* consumes it. If we run the same loop again we will not get anything!"
   ]
  },
  {
   "cell_type": "code",
   "execution_count": null,
   "id": "d7c46162",
   "metadata": {},
   "outputs": [],
   "source": [
    "for record in records:\n",
    "    print(record)"
   ]
  },
  {
   "cell_type": "markdown",
   "id": "359751c5",
   "metadata": {},
   "source": [
    "We will convert the iterator to a list so that we can better play with the data:"
   ]
  },
  {
   "cell_type": "code",
   "execution_count": null,
   "id": "609d370f",
   "metadata": {},
   "outputs": [],
   "source": [
    "records = list(SeqIO.parse(\"fastcats.fasta\", \"fasta\"))\n",
    "records"
   ]
  },
  {
   "cell_type": "markdown",
   "id": "4cf719ba",
   "metadata": {},
   "source": [
    "We can see that *records* consists on record *SeqRecord* objects that, in turn, consist of a sequence (Seq object), and an id among others."
   ]
  },
  {
   "cell_type": "markdown",
   "id": "545dfa86",
   "metadata": {},
   "source": [
    "One SeqRecord object"
   ]
  },
  {
   "cell_type": "code",
   "execution_count": null,
   "id": "6801da6a",
   "metadata": {},
   "outputs": [],
   "source": [
    "records[0]"
   ]
  },
  {
   "cell_type": "markdown",
   "id": "88dd9eb5",
   "metadata": {},
   "source": [
    "The sequence of the zeroeth sequence"
   ]
  },
  {
   "cell_type": "code",
   "execution_count": null,
   "id": "d5cfef1d",
   "metadata": {},
   "outputs": [],
   "source": [
    "records[0].seq"
   ]
  },
  {
   "cell_type": "code",
   "execution_count": null,
   "id": "24c0a778",
   "metadata": {},
   "outputs": [],
   "source": [
    "print(records[0].seq)"
   ]
  },
  {
   "cell_type": "markdown",
   "id": "76a8d434",
   "metadata": {},
   "source": [
    "Some of their methods they are methods you have in regular strings"
   ]
  },
  {
   "cell_type": "code",
   "execution_count": null,
   "id": "469afa9d",
   "metadata": {},
   "outputs": [],
   "source": [
    "records[0].seq.startswith('THE')"
   ]
  },
  {
   "cell_type": "code",
   "execution_count": null,
   "id": "33387b3f",
   "metadata": {},
   "outputs": [],
   "source": [
    "for record in records:\n",
    "    print(record.id, '\\t', record.seq)"
   ]
  },
  {
   "cell_type": "markdown",
   "id": "787db702",
   "metadata": {},
   "source": [
    "## Write a *.fasta* file with Biopython"
   ]
  },
  {
   "cell_type": "markdown",
   "id": "ad9bd91f",
   "metadata": {},
   "source": [
    "We prepare one new sequence as a SeqRecord object"
   ]
  },
  {
   "cell_type": "code",
   "execution_count": null,
   "id": "6dcdb5eb",
   "metadata": {},
   "outputs": [],
   "source": [
    "from Bio.Seq import Seq\n",
    "from Bio.SeqRecord import SeqRecord\n",
    "\n",
    "record = SeqRecord(\n",
    "    Seq(\"THEFATRAT\"),\n",
    "    id=\"FAT_RAT\",\n",
    "    description=\"a fat rat sequence\",\n",
    "    )\n",
    "print(record)"
   ]
  },
  {
   "cell_type": "markdown",
   "id": "70feb09c",
   "metadata": {},
   "source": [
    "We prepare a list of two sequences as SeqReord objects"
   ]
  },
  {
   "cell_type": "code",
   "execution_count": null,
   "id": "e7c18852",
   "metadata": {},
   "outputs": [],
   "source": [
    "records = [\n",
    "    SeqRecord(\n",
    "    Seq(\"THEFATRAT\"),\n",
    "    id=\"FAT_RAT\",\n",
    "    description=\"a fat rat sequence\",\n",
    "    ),\n",
    "    SeqRecord(\n",
    "    Seq(\"----A-RAT\"),\n",
    "    id=\"A_RAT\",\n",
    "    description=\"a rat sequence\",\n",
    "),\n",
    "    ]        \n",
    "print(records)"
   ]
  },
  {
   "cell_type": "markdown",
   "id": "71051eb0",
   "metadata": {},
   "source": [
    "We write the list of records to a new file"
   ]
  },
  {
   "cell_type": "code",
   "execution_count": null,
   "id": "4f3b5a2b",
   "metadata": {},
   "outputs": [],
   "source": [
    "with open(\"fatrats.fa\", \"w\") as fname_out:\n",
    "    SeqIO.write(records, fname_out, \"fasta\")"
   ]
  },
  {
   "cell_type": "markdown",
   "id": "704b9ab6",
   "metadata": {},
   "source": [
    "Let's check that everything is fine"
   ]
  },
  {
   "cell_type": "code",
   "execution_count": null,
   "id": "90500c20",
   "metadata": {},
   "outputs": [],
   "source": [
    "records = list(SeqIO.parse(\"fatrats.fa\", \"fasta\"))\n",
    "records"
   ]
  },
  {
   "cell_type": "markdown",
   "id": "ec661a0a",
   "metadata": {},
   "source": [
    "## Other file types"
   ]
  },
  {
   "cell_type": "markdown",
   "id": "553ec996",
   "metadata": {},
   "source": [
    "Write our previous sequence in *Clustal* format"
   ]
  },
  {
   "cell_type": "code",
   "execution_count": null,
   "id": "99f59c37",
   "metadata": {},
   "outputs": [],
   "source": [
    "with open(\"fatrats.aln\", \"w\") as fname_out:\n",
    "    SeqIO.write(records, fname_out, \"clustal\")"
   ]
  },
  {
   "cell_type": "markdown",
   "id": "c1ea8357",
   "metadata": {},
   "source": [
    "Open a *.fastq* file"
   ]
  },
  {
   "cell_type": "code",
   "execution_count": null,
   "id": "da35f217",
   "metadata": {},
   "outputs": [],
   "source": [
    "records = list(SeqIO.parse(\"reads.fastq\", \"fastq\"))\n",
    "records"
   ]
  },
  {
   "cell_type": "code",
   "execution_count": null,
   "id": "14b09114",
   "metadata": {},
   "outputs": [],
   "source": [
    "records[0].seq"
   ]
  },
  {
   "cell_type": "code",
   "execution_count": null,
   "id": "2ee347e9",
   "metadata": {},
   "outputs": [],
   "source": [
    "print(records[0].letter_annotations[\"phred_quality\"])"
   ]
  },
  {
   "cell_type": "markdown",
   "id": "89d7c11c",
   "metadata": {},
   "source": [
    "# Your own functions to read/display *.fasta* files\n",
    "Parsing files sometimes is not an easy task. There are not always tools avaliable for our files of interest. How would it be parsing *.fasta* files without Biopython? In that case we need to understand well the structure of the file format (*fasta* in our case)."
   ]
  },
  {
   "cell_type": "code",
   "execution_count": null,
   "id": "234007af-44bf-4f17-9bd3-220f4d52d704",
   "metadata": {},
   "outputs": [],
   "source": [
    "with open(\"fastcats.fasta\") as f_inp:\n",
    "    lines = f_inp.read().splitlines()\n",
    "lines"
   ]
  },
  {
   "cell_type": "code",
   "execution_count": null,
   "id": "2d3d4eec-2949-4c13-a120-e78437404ee4",
   "metadata": {},
   "outputs": [],
   "source": [
    "for line in lines:\n",
    "    print(line)"
   ]
  },
  {
   "cell_type": "markdown",
   "id": "113fa93d",
   "metadata": {},
   "source": [
    "# Exact matching"
   ]
  },
  {
   "cell_type": "markdown",
   "id": "120c9db3",
   "metadata": {},
   "source": [
    "How to do exact matching in Python? Or how to find the offset of a substring *p* in a string *t*?"
   ]
  },
  {
   "cell_type": "code",
   "execution_count": null,
   "id": "bfc3b6b9",
   "metadata": {},
   "outputs": [],
   "source": [
    "t = 'THEFASTCAT'\n",
    "p = 'FAST'\n",
    "t.find(p)"
   ]
  },
  {
   "cell_type": "markdown",
   "id": "16adf195",
   "metadata": {},
   "source": [
    "How to find the second (the third ...) instance of the motif?"
   ]
  },
  {
   "cell_type": "code",
   "execution_count": null,
   "id": "0b3f3c6a",
   "metadata": {},
   "outputs": [],
   "source": [
    "t = 'THEFASTCATTHEFASTRATAFASTRAT'\n",
    "t.find(p, 0)"
   ]
  }
 ],
 "metadata": {
  "kernelspec": {
   "display_name": "Python 3 (ipykernel)",
   "language": "python",
   "name": "python3"
  },
  "language_info": {
   "codemirror_mode": {
    "name": "ipython",
    "version": 3
   },
   "file_extension": ".py",
   "mimetype": "text/x-python",
   "name": "python",
   "nbconvert_exporter": "python",
   "pygments_lexer": "ipython3",
   "version": "3.11.7"
  }
 },
 "nbformat": 4,
 "nbformat_minor": 5
}
