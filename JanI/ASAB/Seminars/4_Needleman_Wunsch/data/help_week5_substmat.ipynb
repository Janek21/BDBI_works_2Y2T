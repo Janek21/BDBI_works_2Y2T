{
 "cells": [
  {
   "cell_type": "markdown",
   "id": "b604a4ec-ac43-40cf-aee0-058bdadb354a",
   "metadata": {
    "tags": []
   },
   "source": [
    "# Creating a substitution matrix"
   ]
  },
  {
   "cell_type": "markdown",
   "id": "d68bbc0e-f1fa-4a82-8031-2436e35d3c95",
   "metadata": {},
   "source": [
    "We are going to create substitution matrices from sequence alignments. "
   ]
  },
  {
   "cell_type": "markdown",
   "id": "26da7795-877a-4044-be37-0616b24ebf90",
   "metadata": {},
   "source": [
    "## BABA sequences"
   ]
  },
  {
   "cell_type": "markdown",
   "id": "4f4b65ea-c33c-4ce0-9da6-aede37759e0e",
   "metadata": {},
   "source": [
    "We will start with the toy example that I showed in the presentation."
   ]
  },
  {
   "cell_type": "markdown",
   "id": "be6e7661-e602-4a95-9434-39837aad8e84",
   "metadata": {},
   "source": [
    "We will store the substitution matrix as a dictionary of dictionaries so that we can ask for the score of aligning S with L as *subst_mat['S']['L']*."
   ]
  },
  {
   "cell_type": "code",
   "execution_count": null,
   "id": "0cc95026-e56c-4c53-816d-3f643ed5a620",
   "metadata": {},
   "outputs": [],
   "source": [
    "from Bio import SeqIO\n",
    "\n",
    "records = list(SeqIO.parse('baba.fasta', \"fasta\"))\n",
    "aa_alphabet = \"ABC\"  # this is our limitted amino acid alphabet\n",
    "\n",
    "freqs = {}  # will contain the total count/frequency of each AA\n",
    "trans = {}  # will contain the total count/frequency of each transition"
   ]
  },
  {
   "cell_type": "code",
   "execution_count": null,
   "id": "f2c47823-7eae-4ded-af91-2d3122cf2a8a",
   "metadata": {},
   "outputs": [],
   "source": [
    "# we initialize counts\n",
    "___"
   ]
  },
  {
   "cell_type": "code",
   "execution_count": null,
   "id": "00023ea2-cee2-4bd4-9124-64b3d100000f",
   "metadata": {},
   "outputs": [],
   "source": [
    "# count all the AA occurences - exclude gaps!\n",
    "___"
   ]
  },
  {
   "cell_type": "code",
   "execution_count": null,
   "id": "c015a1f6-4d07-4d15-876b-ea2f5fb0ff5f",
   "metadata": {},
   "outputs": [],
   "source": [
    "# turn the amino acid counts into relative frequencies\n",
    "___"
   ]
  },
  {
   "cell_type": "code",
   "execution_count": null,
   "id": "3f0a5c1a-3cd4-4415-bb97-0761fc8184bb",
   "metadata": {},
   "outputs": [],
   "source": [
    "# count transitions\n",
    "___"
   ]
  },
  {
   "cell_type": "code",
   "execution_count": null,
   "id": "594225e4-d503-4a65-8cd3-8849cdee5fd3",
   "metadata": {},
   "outputs": [],
   "source": [
    "# turn transition counts into relative frequencies\n",
    "___"
   ]
  },
  {
   "cell_type": "code",
   "execution_count": null,
   "id": "9b623dde-aabe-48e1-a87f-b84e9a5e74e8",
   "metadata": {},
   "outputs": [],
   "source": [
    "# compute expected frequencies\n",
    "___"
   ]
  },
  {
   "cell_type": "code",
   "execution_count": null,
   "id": "b0af2741-1d2a-4341-a037-bab07d6fe1e0",
   "metadata": {},
   "outputs": [],
   "source": [
    "# compute log_odds\n",
    "\n",
    "import math\n",
    "subst_mat = {}\n",
    "for ___\n",
    "    ___\n",
    "    for ___\n",
    "        one_log_odds = math.log10((___) /\n",
    "                       (___)) * 10  # 10 is a factor to make numbers nicer \n",
    "        subst_mat[aa1][aa2] = int(round(one_log_odds, 0)) \n",
    "print(subst_mat)"
   ]
  },
  {
   "cell_type": "markdown",
   "id": "3b0734fa-ac6b-4a11-84b3-e108b9ceb4c3",
   "metadata": {},
   "source": [
    "We will use pandas to visualize the matrix more easily"
   ]
  },
  {
   "cell_type": "code",
   "execution_count": null,
   "id": "f6d5ce4d-48c6-4010-bed0-1223f58026fd",
   "metadata": {},
   "outputs": [],
   "source": [
    "import pandas as pd\n",
    "df = pd.DataFrame(subst_mat, list(\"ABC\"), list(\"ABC\"))\n",
    "df"
   ]
  },
  {
   "cell_type": "markdown",
   "id": "7e3e6592-a573-4808-b558-cb35969ea660",
   "metadata": {},
   "source": [
    "The result above should be the same as with Biopython. "
   ]
  },
  {
   "cell_type": "markdown",
   "id": "194bf39e-2c1e-4f58-b3c6-54ba3580afe7",
   "metadata": {},
   "source": [
    "## GPCR sequences"
   ]
  },
  {
   "cell_type": "markdown",
   "id": "3189b8e2-a34d-4326-b467-f19099606c38",
   "metadata": {},
   "source": [
    "Here you will create a substitution matrix with real sequences. Use *gpcrs.fasta*. The problem with this alignment is that some columns contain a lot of gaps, which is something undesired to compute a substitution matrix. We will discard columns that contain gaps in >10% of the sequences. "
   ]
  },
  {
   "cell_type": "markdown",
   "id": "da2d7951-bc9e-4cfd-a19b-df3c2617bf42",
   "metadata": {},
   "source": [
    "### Exercise: ungap_fasta"
   ]
  },
  {
   "cell_type": "code",
   "execution_count": null,
   "id": "47844ade-773c-4f59-b563-fe9181552745",
   "metadata": {
    "tags": []
   },
   "outputs": [],
   "source": [
    "from Bio import SeqIO\n",
    "from Bio.Seq import Seq\n",
    "\n",
    "def ungap_fasta(input_file, output_file, min_perc=10):\n",
    "    records = list(SeqIO.parse(input_file, \"fasta\"))\n",
    " \n",
    "    # count gaps at each column\n",
    "    ___\n",
    "    # compute percentage of gaps\n",
    "    ___\n",
    "    \n",
    "    # remove columns with many gaps\n",
    "    ___\n",
    "    \n",
    "    with open(output_file, \"w\") as fname_out:\n",
    "        SeqIO.write(out_records, fname_out, \"fasta\")\n",
    "\n",
    "        \n",
    "ungap('gpcrs.fasta', 'gpcrs_ungapped.fasta', 10)"
   ]
  },
  {
   "cell_type": "markdown",
   "id": "55a9d126-82c0-468b-a7e2-e546dad1b59a",
   "metadata": {},
   "source": [
    "Use your functions to ungap the gpcrs alignment and compute a sequence alignment with it. Visualize the new substitution matrix in pandas."
   ]
  },
  {
   "cell_type": "code",
   "execution_count": null,
   "id": "bfa46781-45fb-4643-94cc-dc58fdaf6802",
   "metadata": {},
   "outputs": [],
   "source": [
    "import pandas as pd\n",
    "aa_alphabet = \"ACDEFGHIKLMNPQRSTVWY\"\n",
    "df = pd.DataFrame(subst_mat, list(aa_alphabet), list(aa_alphabet))\n",
    "df"
   ]
  },
  {
   "cell_type": "markdown",
   "id": "b72e742e-158e-41a8-9cbc-7b817e412652",
   "metadata": {},
   "source": [
    "Let's visualize it using pandas"
   ]
  },
  {
   "cell_type": "markdown",
   "id": "32f3a0ec-af0d-4ccb-8942-285b8a169c3d",
   "metadata": {},
   "source": [
    "Compare the matrix with the matrix that you would have obtained without removing the positions with many gaps."
   ]
  },
  {
   "cell_type": "code",
   "execution_count": null,
   "id": "89209f24-2212-46ea-bde8-c294c2f9dde1",
   "metadata": {},
   "outputs": [],
   "source": [
    "subst_mat_manygaps = compute_subst_mat('gpcrs.fasta')\n",
    "df_manygaps = pd.DataFrame(subst_mat_manygaps, list(aa_alphabet), list(aa_alphabet))\n",
    "df - df_manygaps"
   ]
  }
 ],
 "metadata": {
  "kernelspec": {
   "display_name": "Python 3 (ipykernel)",
   "language": "python",
   "name": "python3"
  },
  "language_info": {
   "codemirror_mode": {
    "name": "ipython",
    "version": 3
   },
   "file_extension": ".py",
   "mimetype": "text/x-python",
   "name": "python",
   "nbconvert_exporter": "python",
   "pygments_lexer": "ipython3",
   "version": "3.9.13"
  }
 },
 "nbformat": 4,
 "nbformat_minor": 5
}
