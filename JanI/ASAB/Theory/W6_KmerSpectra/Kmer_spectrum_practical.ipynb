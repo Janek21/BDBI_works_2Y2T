{
 "cells": [
  {
   "cell_type": "markdown",
   "id": "85238ddc",
   "metadata": {},
   "source": [
    "# Building the K-mer spectra from a genome\n",
    "\n",
    "Write functions to:\n",
    "1. Calculate k-mers from DNA sequences. Check it on a sequence with L=33 using k=21. Seq='ATGGACCAGATATAGGGAGAGCCAGGTAGGACA'  How many kmers do you expect from it?\n",
    "2. Calculate them directly from a FASTA file (example fastas read.fasta and Theileria provided)\n",
    "3. Adapt the functions in a python program to plot the k-mer spectra of a fasta file. Apply this to a bacterial genome, Klebsiella pneumoniae:GCF_000240185.1_ASM24018v2_genomic.fasta\n",
    "4. Optional Assignment (via Moodle): write a .py to do this and the plots you get with k=8\n",
    "\n",
    "Information: \n",
    "--------------\n",
    "A method of visualizing k-mers, the k-mer spectrum, shows the multiplicity of each k-mer in a sequence versus the number of k-mers with that multiplicity (see  https://en.wikipedia.org/wiki/K-mer). This is a sort of density plot, notation varies a bit the x-axis basically shows multiplicity of each kmer (number of time is repeated in the sequences or genome) and the y-axis the number of kmers at a given multiplicity (e.g. how many kmers appear 1,2,3,...100 times in the genome). For these reasons, the y-axis is sometimes called frequency and the x-axis counts by some programs.\n",
    "\n",
    "In the case of reads, the multiplicity is \"amplified\" by the sequencing coverage.\n"
   ]
  },
  {
   "cell_type": "code",
   "execution_count": 1,
   "id": "bae99b4d",
   "metadata": {},
   "outputs": [
    {
     "name": "stdout",
     "output_type": "stream",
     "text": [
      "The number of kmers of the sequence is:  13\n"
     ]
    }
   ],
   "source": [
    "#extract kmers: use 1-size sliding window, output is list of all kmers of input size\n",
    "\n",
    "def c_kmers(sequence, size):\n",
    "    kmers=[] #list to store kmers\n",
    "\n",
    "    start=0 #set a strart position\n",
    "    for end in range(size, len(sequence)+1): #iterate from size to end of sequence (including last character), iterate for the number of times equal to the difference of size to the end of the sequence\n",
    "        kmers.append(sequence[start:end]) #append from the starting position to the end of the window, end= start+size\n",
    "        start+=1 #add 1 to start, so the next window starts i character over\n",
    "    \n",
    "    return kmers\n",
    "\n",
    "func=c_kmers('ATGGACCAGATATAGGGAGAGCCAGGTAGGACA', 21)\n",
    "print(\"The number of kmers of the sequence is: \",len(func))\n"
   ]
  },
  {
   "cell_type": "code",
   "execution_count": 7,
   "id": "3489a9eb",
   "metadata": {},
   "outputs": [
    {
     "name": "stdout",
     "output_type": "stream",
     "text": [
      "The number of kmers of the sequences of the file is: 2481\n"
     ]
    }
   ],
   "source": [
    "#read the sequences from a file\n",
    "from Bio import SeqIO\n",
    "\n",
    "def fastConvert(file): #converts from fastq to fasta\n",
    "    fastq_file=\"/home/jj/Desktop/Bioinformatics/2nd_year/2term/ASAB/Theory/W6_KmerSpectra/fasta/\"+file #set path to fastq file\n",
    "    file=file[:-5]+\"fasta\" #define file as fasta\n",
    "    f=open(\"/home/jj/Desktop/Bioinformatics/2nd_year/2term/ASAB/Theory/W6_KmerSpectra/fasta/\"+file, \"w\")#create new fasta file, with writing permission\n",
    "    for read in SeqIO.parse(fastq_file, \"fastq\"):#read the fastq file, and for every read\n",
    "        print(\">\"+str(read.id), file=f)#write > and the id\n",
    "        print(read.seq, file=f)#write the sequence\n",
    "    f.close()\n",
    "    return file\n",
    "\n",
    "def file2seq(file):\n",
    "    if \".fastq\" in file: #detect if teh input is fastq\n",
    "        file=fastConvert(file)#convert it to fasta and define file as the name of the fasta\n",
    "        \n",
    "    file=\"/home/jj/Desktop/Bioinformatics/2nd_year/2term/ASAB/Theory/W6_KmerSpectra/fasta/\"+file #input the filenames, this sets the path\n",
    "    sequence=\"\"\n",
    "\n",
    "    for read in SeqIO.parse(file, \"fasta\"): #parse trough the reads\n",
    "\n",
    "        sequence+=str(read.seq).upper() #add the read sequence in upper case to the sequence variable\n",
    "\n",
    "    return sequence #return the file sequence\n",
    "\n",
    "seq=file2seq(\"Theileria_2500bp.fa\") #get the sequence of Theileria from the file\n",
    "\n",
    "func=c_kmers(seq, 115) #calculate how many kmers of size 115 does Theileria have\n",
    "print(\"The number of kmers of the sequences of the file is:\",len(func))\n",
    "#to calculate the number of kmers on read.fasta you would change the name of the file in file2seq\n"
   ]
  },
  {
   "cell_type": "code",
   "execution_count": 3,
   "id": "cfaa5df7",
   "metadata": {},
   "outputs": [
    {
     "data": {
      "image/png": "[encoded data removed]",
      "text/plain": [
       "<Figure size 432x288 with 1 Axes>"
      ]
     },
     "metadata": {
      "needs_background": "light"
     },
     "output_type": "display_data"
    },
    {
     "name": "stdout",
     "output_type": "stream",
     "text": [
      "\n"
     ]
    },
    {
     "data": {
      "image/png": "[encoded data removed]",
      "text/plain": [
       "<Figure size 432x288 with 1 Axes>"
      ]
     },
     "metadata": {
      "needs_background": "light"
     },
     "output_type": "display_data"
    },
    {
     "name": "stdout",
     "output_type": "stream",
     "text": [
      "\n"
     ]
    }
   ],
   "source": [
    "#get sequences from a file and write a plots\n",
    "import matplotlib.pyplot as plt\n",
    "\n",
    "def kmer_plot(file, size):\n",
    "\n",
    "    sequence=file2seq(file) #get the sequence form the file using the previous function\n",
    "    ls_kmer=c_kmers(sequence, size) #get the kmers for the sequence for the desired size\n",
    "    \n",
    "    #check for kmer repetitions\n",
    "    kcount={}\n",
    "    for kmer in ls_kmer: #iterate over kmers, if it exists add 1 to the count, if it doesent define it in the dictionary and count 1 as its value\n",
    "        if kmer in kcount:\n",
    "            kcount[kmer]+=1\n",
    "        else:\n",
    "            kcount[kmer]=1\n",
    "\n",
    "    \n",
    "    freq = list(kcount.values()) #how many times each kmer appears\n",
    "    \n",
    "    counted_seq = list(set(freq)) #get repetition numbers (kmers are repeated (1,2,4,5...) times)\n",
    "    counted_freq={}\n",
    "\n",
    "    for num in freq: #count how many times each number (kmer repetitions) appears (kmer AAA repeats 3 times, there are 20 kmers that appear 3 times)\n",
    "        if num in counted_freq:\n",
    "            counted_freq[num]+=1\n",
    "        else:\n",
    "            counted_freq[num]=1 \n",
    "    #values are kmer number repetitions \n",
    "    sorted_count=sorted(list(counted_freq.values()), reverse=True) #sort the listof number repetitions\n",
    "\n",
    "    #os.system(f\"Rscript graph.r {list(kcount.keys())} {list(kcount.values())}\")\n",
    "    for letter_pos in range(len(file)-1, -1, -1): #strat from the end of the file to erase the extension\n",
    "        if file[letter_pos]==\".\": #identify if we have reached the end of the extension\n",
    "            file=file[:letter_pos] #save file as only the name of the file\n",
    "            break\n",
    "    \n",
    "\n",
    "    plt.scatter(x = counted_seq, y = sorted_count, c='blue') #create the scatter plot\n",
    "    plt.ylabel('Kmer frequency')\n",
    "    plt.xlabel('Kmer count')\n",
    "    plt.title(f\"Kmers of size {size} for {file}\")\n",
    "    plt.grid(True)\n",
    "    plt.savefig(f'{file}.jpeg') #save the plot as filename.jpeg\n",
    "    plt.show()\n",
    "\n",
    "    return \"\"\n",
    "\n",
    "\n",
    "print(kmer_plot(\"read.fasta\", 3))\n",
    "print(kmer_plot(\"GCF_000240185.1_ASM24018v2_genomic.fasta\", 8))"
   ]
  }
 ],
 "metadata": {
  "kernelspec": {
   "display_name": "Python 3 (ipykernel)",
   "language": "python",
   "name": "python3"
  },
  "language_info": {
   "codemirror_mode": {
    "name": "ipython",
    "version": 3
   },
   "file_extension": ".py",
   "mimetype": "text/x-python",
   "name": "python",
   "nbconvert_exporter": "python",
   "pygments_lexer": "ipython3",
   "version": "3.9.12"
  }
 },
 "nbformat": 4,
 "nbformat_minor": 5
}
