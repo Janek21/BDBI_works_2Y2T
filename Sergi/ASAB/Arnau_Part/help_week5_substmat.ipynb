{
 "cells": [
  {
   "cell_type": "markdown",
   "id": "b604a4ec-ac43-40cf-aee0-058bdadb354a",
   "metadata": {
    "tags": []
   },
   "source": [
    "# Creating a substitution matrix"
   ]
  },
  {
   "cell_type": "markdown",
   "id": "d68bbc0e-f1fa-4a82-8031-2436e35d3c95",
   "metadata": {},
   "source": [
    "We are going to create substitution matrices from sequence alignments. "
   ]
  },
  {
   "cell_type": "markdown",
   "id": "26da7795-877a-4044-be37-0616b24ebf90",
   "metadata": {},
   "source": [
    "## BABA sequences"
   ]
  },
  {
   "cell_type": "markdown",
   "id": "4f4b65ea-c33c-4ce0-9da6-aede37759e0e",
   "metadata": {},
   "source": [
    "We will start with the toy example that I showed in the presentation."
   ]
  },
  {
   "cell_type": "markdown",
   "id": "be6e7661-e602-4a95-9434-39837aad8e84",
   "metadata": {},
   "source": [
    "We will store the substitution matrix as a dictionary of dictionaries so that we can ask for the score of aligning S with L as *subst_mat['S']['L']*."
   ]
  },
  {
   "cell_type": "code",
   "execution_count": 1,
   "id": "0cc95026-e56c-4c53-816d-3f643ed5a620",
   "metadata": {},
   "outputs": [],
   "source": [
    "from Bio import SeqIO\n",
    "\n",
    "records = list(SeqIO.parse('baba.fasta', \"fasta\"))\n",
    "aa_alphabet = \"ABC\"  # this is our limitted amino acid alphabet\n",
    "\n",
    "freqs = {}  # will contain the total count/frequency of each AA\n",
    "trans = {}  # will contain the total count/frequency of each transition"
   ]
  },
  {
   "cell_type": "code",
   "execution_count": 2,
   "id": "f2c47823-7eae-4ded-af91-2d3122cf2a8a",
   "metadata": {},
   "outputs": [],
   "source": [
    "# we initialize counts\n",
    "freqs = {aa: 0 for aa in aa_alphabet}\n",
    "trans = {aa1: {aa2: 0 for aa2 in aa_alphabet} for aa1 in aa_alphabet}"
   ]
  },
  {
   "cell_type": "code",
   "execution_count": 3,
   "id": "00023ea2-cee2-4bd4-9124-64b3d100000f",
   "metadata": {},
   "outputs": [],
   "source": [
    "# count all the AA occurences - exclude gaps!\n",
    "# Iterate over each sequence in records\n",
    "for record in records:\n",
    "    # Count occurrences of each amino acid in the sequence\n",
    "    for aa in record.seq:\n",
    "        if aa != '-':  # Exclude gaps\n",
    "            freqs[aa] += 1"
   ]
  },
  {
   "cell_type": "code",
   "execution_count": 4,
   "id": "c015a1f6-4d07-4d15-876b-ea2f5fb0ff5f",
   "metadata": {},
   "outputs": [],
   "source": [
    "# turn the amino acid counts into relative frequencies\n",
    "total_aa_count = sum(freqs.values())\n",
    "for aa in freqs:\n",
    "    freqs[aa] /= total_aa_count\n"
   ]
  },
  {
   "cell_type": "code",
   "execution_count": 5,
   "id": "3f0a5c1a-3cd4-4415-bb97-0761fc8184bb",
   "metadata": {},
   "outputs": [],
   "source": [
    "# count transitions\n",
    "# Iterate over each sequence in records\n",
    "for record in records:\n",
    "    # Iterate over each pair of adjacent amino acids in the sequence\n",
    "    for i in range(len(record.seq) - 1):\n",
    "        aa1 = record.seq[i]\n",
    "        aa2 = record.seq[i + 1]\n",
    "        \n",
    "        # Exclude transitions involving gaps\n",
    "        if aa1 != '-' and aa2 != '-':\n",
    "            # Increment the count of the transition from aa1 to aa2\n",
    "            trans[aa1][aa2] += 1\n"
   ]
  },
  {
   "cell_type": "code",
   "execution_count": 6,
   "id": "594225e4-d503-4a65-8cd3-8849cdee5fd3",
   "metadata": {},
   "outputs": [],
   "source": [
    "# turn transition counts into relative frequencies\n",
    "# Calculate total number of observed transitions\n",
    "total_transitions = sum(sum(trans[aa1].values()) for aa1 in aa_alphabet)\n",
    "\n",
    "# Iterate over each amino acid pair in the transition matrix\n",
    "for aa1 in aa_alphabet:\n",
    "    for aa2 in aa_alphabet:\n",
    "        # Calculate relative frequency for each transition\n",
    "        if total_transitions != 0:\n",
    "            trans[aa1][aa2] /= total_transitions"
   ]
  },
  {
   "cell_type": "code",
   "execution_count": 7,
   "id": "9b623dde-aabe-48e1-a87f-b84e9a5e74e8",
   "metadata": {},
   "outputs": [],
   "source": [
    "# compute expected frequencies\n",
    "# Initialize a dictionary to store expected frequencies\n",
    "expected_freqs = {}\n",
    "\n",
    "# Iterate over each amino acid pair in the transition matrix\n",
    "for aa1 in aa_alphabet:\n",
    "    expected_freqs[aa1] = {}\n",
    "    for aa2 in aa_alphabet:\n",
    "        # Calculate expected frequency as the product of individual amino acid frequencies\n",
    "        expected_freqs[aa1][aa2] = freqs[aa1] * freqs[aa2]\n"
   ]
  },
  {
   "cell_type": "code",
   "execution_count": 11,
   "id": "b0af2741-1d2a-4341-a037-bab07d6fe1e0",
   "metadata": {},
   "outputs": [
    {
     "name": "stdout",
     "output_type": "stream",
     "text": [
      "{'A': {'A': 6, 'B': 11, 'C': 9}, 'B': {'A': 11, 'B': 16, 'C': 14}, 'C': {'A': 8, 'B': 14, 'C': 12}}\n"
     ]
    }
   ],
   "source": [
    "import math\n",
    "\n",
    "# Initialize a dictionary to store log-odds scores\n",
    "subst_mat = {}\n",
    "\n",
    "pseudocount = 1\n",
    "\n",
    "# Iterate over each amino acid pair in the transition matrix\n",
    "for aa1 in aa_alphabet:\n",
    "    subst_mat[aa1] = {}\n",
    "    for aa2 in aa_alphabet:\n",
    "        # Compute the log-odds score using the observed and expected frequencies\n",
    "        observed_freq = trans[aa1][aa2] if (aa1 in trans) and (aa2 in trans[aa1]) else 0\n",
    "        expected_freq = freqs[aa1] * freqs[aa2]\n",
    "        \n",
    "        # Add pseudocount to observed frequency to avoid division by zero\n",
    "        observed_freq += pseudocount\n",
    "        \n",
    "        # Calculate log-odds score\n",
    "        log_odds_score = math.log10(observed_freq / expected_freq) * 10\n",
    "        \n",
    "        # Assign log-odds score to subst_mat\n",
    "        subst_mat[aa1][aa2] = int(round(log_odds_score, 0))\n",
    "\n",
    "print(subst_mat)\n"
   ]
  },
  {
   "cell_type": "markdown",
   "id": "3b0734fa-ac6b-4a11-84b3-e108b9ceb4c3",
   "metadata": {},
   "source": [
    "We will use pandas to visualize the matrix more easily"
   ]
  },
  {
   "cell_type": "code",
   "execution_count": 12,
   "id": "f6d5ce4d-48c6-4010-bed0-1223f58026fd",
   "metadata": {},
   "outputs": [
    {
     "name": "stdout",
     "output_type": "stream",
     "text": [
      "    A   B   C\n",
      "A   6  11   8\n",
      "B  11  16  14\n",
      "C   9  14  12\n"
     ]
    }
   ],
   "source": [
    "import pandas as pd\n",
    "\n",
    "# Assuming subst_mat is already defined with log-odds scores\n",
    "df = pd.DataFrame(subst_mat)\n",
    "\n",
    "# If you want to specify row and column labels explicitly\n",
    "# df = pd.DataFrame(subst_mat, index=list(\"ABC\"), columns=list(\"ABC\"))\n",
    "\n",
    "print(df)\n"
   ]
  },
  {
   "cell_type": "markdown",
   "id": "7e3e6592-a573-4808-b558-cb35969ea660",
   "metadata": {},
   "source": [
    "The result above should be the same as with Biopython. "
   ]
  },
  {
   "cell_type": "markdown",
   "id": "194bf39e-2c1e-4f58-b3c6-54ba3580afe7",
   "metadata": {},
   "source": [
    "## GPCR sequences"
   ]
  },
  {
   "cell_type": "markdown",
   "id": "3189b8e2-a34d-4326-b467-f19099606c38",
   "metadata": {},
   "source": [
    "Here you will create a substitution matrix with real sequences. Use *gpcrs.fasta*. The problem with this alignment is that some columns contain a lot of gaps, which is something undesired to compute a substitution matrix. We will discard columns that contain gaps in >10% of the sequences. "
   ]
  },
  {
   "cell_type": "markdown",
   "id": "da2d7951-bc9e-4cfd-a19b-df3c2617bf42",
   "metadata": {},
   "source": [
    "### Exercise: ungap_fasta"
   ]
  },
  {
   "cell_type": "code",
   "execution_count": 15,
   "id": "47844ade-773c-4f59-b563-fe9181552745",
   "metadata": {
    "tags": []
   },
   "outputs": [
    {
     "ename": "TypeError",
     "evalue": "SeqRecord (id=5HT1A_HUMAN/1-401) has an invalid sequence.",
     "output_type": "error",
     "traceback": [
      "\u001b[0;31m---------------------------------------------------------------------------\u001b[0m",
      "\u001b[0;31mTypeError\u001b[0m                                 Traceback (most recent call last)",
      "File \u001b[0;32m~/anaconda3/lib/python3.9/site-packages/Bio/File.py:72\u001b[0m, in \u001b[0;36mas_handle\u001b[0;34m(handleish, mode, **kwargs)\u001b[0m\n\u001b[1;32m     71\u001b[0m \u001b[38;5;28;01mtry\u001b[39;00m:\n\u001b[0;32m---> 72\u001b[0m     \u001b[38;5;28;01mwith\u001b[39;00m \u001b[38;5;28;43mopen\u001b[39;49m\u001b[43m(\u001b[49m\u001b[43mhandleish\u001b[49m\u001b[43m,\u001b[49m\u001b[43m \u001b[49m\u001b[43mmode\u001b[49m\u001b[43m,\u001b[49m\u001b[43m \u001b[49m\u001b[38;5;241;43m*\u001b[39;49m\u001b[38;5;241;43m*\u001b[39;49m\u001b[43mkwargs\u001b[49m\u001b[43m)\u001b[49m \u001b[38;5;28;01mas\u001b[39;00m fp:\n\u001b[1;32m     73\u001b[0m         \u001b[38;5;28;01myield\u001b[39;00m fp\n",
      "\u001b[0;31mTypeError\u001b[0m: expected str, bytes or os.PathLike object, not TextIOWrapper",
      "\nDuring handling of the above exception, another exception occurred:\n",
      "\u001b[0;31mTypeError\u001b[0m                                 Traceback (most recent call last)",
      "Input \u001b[0;32mIn [15]\u001b[0m, in \u001b[0;36m<cell line: 36>\u001b[0;34m()\u001b[0m\n\u001b[1;32m     33\u001b[0m         SeqIO\u001b[38;5;241m.\u001b[39mwrite(out_records, fname_out, \u001b[38;5;124m\"\u001b[39m\u001b[38;5;124mfasta\u001b[39m\u001b[38;5;124m\"\u001b[39m)\n\u001b[1;32m     35\u001b[0m \u001b[38;5;66;03m# Call ungap_fasta function with input and output file paths and minimum percentage\u001b[39;00m\n\u001b[0;32m---> 36\u001b[0m \u001b[43mungap_fasta\u001b[49m\u001b[43m(\u001b[49m\u001b[38;5;124;43m'\u001b[39;49m\u001b[38;5;124;43mgpcrs.fasta\u001b[39;49m\u001b[38;5;124;43m'\u001b[39;49m\u001b[43m,\u001b[49m\u001b[43m \u001b[49m\u001b[38;5;124;43m'\u001b[39;49m\u001b[38;5;124;43mgpcrs_ungapped.fasta\u001b[39;49m\u001b[38;5;124;43m'\u001b[39;49m\u001b[43m,\u001b[49m\u001b[43m \u001b[49m\u001b[38;5;241;43m10\u001b[39;49m\u001b[43m)\u001b[49m\n",
      "Input \u001b[0;32mIn [15]\u001b[0m, in \u001b[0;36mungap_fasta\u001b[0;34m(input_file, output_file, min_perc)\u001b[0m\n\u001b[1;32m     31\u001b[0m \u001b[38;5;66;03m# Write sequences to output file without removed columns\u001b[39;00m\n\u001b[1;32m     32\u001b[0m \u001b[38;5;28;01mwith\u001b[39;00m \u001b[38;5;28mopen\u001b[39m(output_file, \u001b[38;5;124m\"\u001b[39m\u001b[38;5;124mw\u001b[39m\u001b[38;5;124m\"\u001b[39m) \u001b[38;5;28;01mas\u001b[39;00m fname_out:\n\u001b[0;32m---> 33\u001b[0m     \u001b[43mSeqIO\u001b[49m\u001b[38;5;241;43m.\u001b[39;49m\u001b[43mwrite\u001b[49m\u001b[43m(\u001b[49m\u001b[43mout_records\u001b[49m\u001b[43m,\u001b[49m\u001b[43m \u001b[49m\u001b[43mfname_out\u001b[49m\u001b[43m,\u001b[49m\u001b[43m \u001b[49m\u001b[38;5;124;43m\"\u001b[39;49m\u001b[38;5;124;43mfasta\u001b[39;49m\u001b[38;5;124;43m\"\u001b[39;49m\u001b[43m)\u001b[49m\n",
      "File \u001b[0;32m~/anaconda3/lib/python3.9/site-packages/Bio/SeqIO/__init__.py:518\u001b[0m, in \u001b[0;36mwrite\u001b[0;34m(sequences, handle, format)\u001b[0m\n\u001b[1;32m    516\u001b[0m \u001b[38;5;28;01mwith\u001b[39;00m as_handle(handle, \u001b[38;5;124m\"\u001b[39m\u001b[38;5;124mw\u001b[39m\u001b[38;5;124m\"\u001b[39m) \u001b[38;5;28;01mas\u001b[39;00m fp:\n\u001b[1;32m    517\u001b[0m     \u001b[38;5;28;01mfor\u001b[39;00m record \u001b[38;5;129;01min\u001b[39;00m sequences:\n\u001b[0;32m--> 518\u001b[0m         fp\u001b[38;5;241m.\u001b[39mwrite(\u001b[43mformat_function\u001b[49m\u001b[43m(\u001b[49m\u001b[43mrecord\u001b[49m\u001b[43m)\u001b[49m)\n\u001b[1;32m    519\u001b[0m         count \u001b[38;5;241m+\u001b[39m\u001b[38;5;241m=\u001b[39m \u001b[38;5;241m1\u001b[39m\n\u001b[1;32m    520\u001b[0m \u001b[38;5;28;01mreturn\u001b[39;00m count\n",
      "File \u001b[0;32m~/anaconda3/lib/python3.9/site-packages/Bio/SeqIO/FastaIO.py:389\u001b[0m, in \u001b[0;36mas_fasta\u001b[0;34m(record)\u001b[0m\n\u001b[1;32m    386\u001b[0m \u001b[38;5;28;01massert\u001b[39;00m \u001b[38;5;124m\"\u001b[39m\u001b[38;5;130;01m\\r\u001b[39;00m\u001b[38;5;124m\"\u001b[39m \u001b[38;5;129;01mnot\u001b[39;00m \u001b[38;5;129;01min\u001b[39;00m title\n\u001b[1;32m    387\u001b[0m lines \u001b[38;5;241m=\u001b[39m [\u001b[38;5;124m\"\u001b[39m\u001b[38;5;124m>\u001b[39m\u001b[38;5;132;01m%s\u001b[39;00m\u001b[38;5;130;01m\\n\u001b[39;00m\u001b[38;5;124m\"\u001b[39m \u001b[38;5;241m%\u001b[39m title]\n\u001b[0;32m--> 389\u001b[0m data \u001b[38;5;241m=\u001b[39m \u001b[43m_get_seq_string\u001b[49m\u001b[43m(\u001b[49m\u001b[43mrecord\u001b[49m\u001b[43m)\u001b[49m  \u001b[38;5;66;03m# Catches sequence being None\u001b[39;00m\n\u001b[1;32m    390\u001b[0m \u001b[38;5;28;01massert\u001b[39;00m \u001b[38;5;124m\"\u001b[39m\u001b[38;5;130;01m\\n\u001b[39;00m\u001b[38;5;124m\"\u001b[39m \u001b[38;5;129;01mnot\u001b[39;00m \u001b[38;5;129;01min\u001b[39;00m data\n\u001b[1;32m    391\u001b[0m \u001b[38;5;28;01massert\u001b[39;00m \u001b[38;5;124m\"\u001b[39m\u001b[38;5;130;01m\\r\u001b[39;00m\u001b[38;5;124m\"\u001b[39m \u001b[38;5;129;01mnot\u001b[39;00m \u001b[38;5;129;01min\u001b[39;00m data\n",
      "File \u001b[0;32m~/anaconda3/lib/python3.9/site-packages/Bio/SeqIO/Interfaces.py:109\u001b[0m, in \u001b[0;36m_get_seq_string\u001b[0;34m(record)\u001b[0m\n\u001b[1;32m    107\u001b[0m     \u001b[38;5;28;01mraise\u001b[39;00m \u001b[38;5;167;01mTypeError\u001b[39;00m(\u001b[38;5;124m\"\u001b[39m\u001b[38;5;124mSeqRecord (id=\u001b[39m\u001b[38;5;132;01m%s\u001b[39;00m\u001b[38;5;124m) has None for its sequence.\u001b[39m\u001b[38;5;124m\"\u001b[39m \u001b[38;5;241m%\u001b[39m record\u001b[38;5;241m.\u001b[39mid)\n\u001b[1;32m    108\u001b[0m \u001b[38;5;28;01melif\u001b[39;00m \u001b[38;5;129;01mnot\u001b[39;00m \u001b[38;5;28misinstance\u001b[39m(record\u001b[38;5;241m.\u001b[39mseq, (Seq, MutableSeq)):\n\u001b[0;32m--> 109\u001b[0m     \u001b[38;5;28;01mraise\u001b[39;00m \u001b[38;5;167;01mTypeError\u001b[39;00m(\u001b[38;5;124m\"\u001b[39m\u001b[38;5;124mSeqRecord (id=\u001b[39m\u001b[38;5;132;01m%s\u001b[39;00m\u001b[38;5;124m) has an invalid sequence.\u001b[39m\u001b[38;5;124m\"\u001b[39m \u001b[38;5;241m%\u001b[39m record\u001b[38;5;241m.\u001b[39mid)\n\u001b[1;32m    110\u001b[0m \u001b[38;5;28;01mreturn\u001b[39;00m \u001b[38;5;28mstr\u001b[39m(record\u001b[38;5;241m.\u001b[39mseq)\n",
      "\u001b[0;31mTypeError\u001b[0m: SeqRecord (id=5HT1A_HUMAN/1-401) has an invalid sequence."
     ]
    }
   ],
   "source": [
    "from Bio import SeqIO\n",
    "\n",
    "def ungap_fasta(input_file, output_file, min_perc=10):\n",
    "    # Read sequences from input file\n",
    "    records = []\n",
    "    with open(input_file, \"r\") as handle:\n",
    "        for record in SeqIO.parse(handle, \"fasta\"):\n",
    "            try:\n",
    "                records.append(record)\n",
    "            except Exception as e:\n",
    "                print(f\"Skipping sequence {record.id} due to error: {e}\")\n",
    "                print(f\"Sequence content: {record.seq}\")\n",
    "\n",
    "    # Count gaps at each column\n",
    "    gap_counts = [0] * len(records[0].seq)\n",
    "    for record in records:\n",
    "        for i, char in enumerate(record.seq):\n",
    "            if char == '-':\n",
    "                gap_counts[i] += 1\n",
    "\n",
    "    # Compute percentage of gaps for each column\n",
    "    total_sequences = len(records)\n",
    "    gap_percentage = [(count / total_sequences) * 100 for count in gap_counts]\n",
    "\n",
    "    # Remove columns with more than min_perc% gaps\n",
    "    out_records = []\n",
    "    for record in records:\n",
    "        out_seq = ''.join(char for char, perc in zip(record.seq, gap_percentage) if perc <= min_perc)\n",
    "        out_records.append(record.__class__(out_seq, id=record.id, name=record.name, description=record.description))\n",
    "\n",
    "    # Write sequences to output file without removed columns\n",
    "    with open(output_file, \"w\") as fname_out:\n",
    "        SeqIO.write(out_records, fname_out, \"fasta\")\n",
    "\n",
    "# Call ungap_fasta function with input and output file paths and minimum percentage\n",
    "ungap_fasta('gpcrs.fasta', 'gpcrs_ungapped.fasta', 10)\n",
    "\n"
   ]
  },
  {
   "cell_type": "markdown",
   "id": "55a9d126-82c0-468b-a7e2-e546dad1b59a",
   "metadata": {},
   "source": [
    "Use your functions to ungap the gpcrs alignment and compute a sequence alignment with it. Visualize the new substitution matrix in pandas."
   ]
  },
  {
   "cell_type": "code",
   "execution_count": null,
   "id": "bfa46781-45fb-4643-94cc-dc58fdaf6802",
   "metadata": {},
   "outputs": [],
   "source": [
    "import pandas as pd\n",
    "aa_alphabet = \"ACDEFGHIKLMNPQRSTVWY\"\n",
    "df = pd.DataFrame(subst_mat, list(aa_alphabet), list(aa_alphabet))\n",
    "df"
   ]
  },
  {
   "cell_type": "markdown",
   "id": "b72e742e-158e-41a8-9cbc-7b817e412652",
   "metadata": {},
   "source": [
    "Let's visualize it using pandas"
   ]
  },
  {
   "cell_type": "markdown",
   "id": "32f3a0ec-af0d-4ccb-8942-285b8a169c3d",
   "metadata": {},
   "source": [
    "Compare the matrix with the matrix that you would have obtained without removing the positions with many gaps."
   ]
  },
  {
   "cell_type": "code",
   "execution_count": null,
   "id": "89209f24-2212-46ea-bde8-c294c2f9dde1",
   "metadata": {},
   "outputs": [],
   "source": [
    "subst_mat_manygaps = compute_subst_mat('gpcrs.fasta')\n",
    "df_manygaps = pd.DataFrame(subst_mat_manygaps, list(aa_alphabet), list(aa_alphabet))\n",
    "df - df_manygaps"
   ]
  }
 ],
 "metadata": {
  "kernelspec": {
   "display_name": "Python 3 (ipykernel)",
   "language": "python",
   "name": "python3"
  },
  "language_info": {
   "codemirror_mode": {
    "name": "ipython",
    "version": 3
   },
   "file_extension": ".py",
   "mimetype": "text/x-python",
   "name": "python",
   "nbconvert_exporter": "python",
   "pygments_lexer": "ipython3",
   "version": "3.9.12"
  }
 },
 "nbformat": 4,
 "nbformat_minor": 5
}
