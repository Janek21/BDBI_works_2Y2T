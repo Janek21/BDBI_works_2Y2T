{
 "cells": [
  {
   "cell_type": "markdown",
   "id": "fb06fce2-87e2-41f7-ba9e-5ef9672a5be6",
   "metadata": {},
   "source": [
    "## The Needleman-Wunsch algorithm\n",
    "We will try to reproduce the FAST/FAT alignment in the slides"
   ]
  },
  {
   "cell_type": "code",
   "execution_count": 1,
   "id": "7eb2b233-8ed0-4b06-9fb3-690c1268e6bf",
   "metadata": {},
   "outputs": [],
   "source": [
    "seq_i = 'FAST' # verically (left)\n",
    "seq_j = 'FAT'  # horizontally (top)"
   ]
  },
  {
   "cell_type": "markdown",
   "id": "2ef8b91c-8dbc-4786-8e64-36182ee71244",
   "metadata": {},
   "source": [
    "This will be our scoring system:"
   ]
  },
  {
   "cell_type": "code",
   "execution_count": 2,
   "id": "0c56080f-a69b-4e95-939b-152e6b0d42aa",
   "metadata": {},
   "outputs": [],
   "source": [
    "match = 2\n",
    "mismatch = -1\n",
    "gep = -1"
   ]
  },
  {
   "cell_type": "markdown",
   "id": "d28745f8-bf8d-4ceb-aa89-61dcdd1c8a6c",
   "metadata": {
    "jp-MarkdownHeadingCollapsed": true,
    "tags": []
   },
   "source": [
    "Initialize the matrix of scores with all 0s. Use a list of lists. It will be easier (if I have to help you) if we all put *seq_i* vertically and *seq_j* horizontally. You should get something like this (**without the letters**)."
   ]
  },
  {
   "cell_type": "raw",
   "id": "9df5c93a-0a4e-44ce-b9c6-387936781c4e",
   "metadata": {},
   "source": [
    "  - F A T\n",
    "- 0 0 0 0\n",
    "F 0 0 0 0\n",
    "A 0 0 0 0\n",
    "S 0 0 0 0\n",
    "T 0 0 0 0\n"
   ]
  },
  {
   "cell_type": "code",
   "execution_count": 3,
   "id": "17ad612d-ffda-4bbd-a87d-fad9db290c29",
   "metadata": {},
   "outputs": [],
   "source": [
    "score_mat = [[0] * (len(seq_j) + 1) for _ in range(len(seq_i) + 1)]"
   ]
  },
  {
   "cell_type": "markdown",
   "id": "4aba020e-ea72-4c8a-b2e3-678b4d42e3ac",
   "metadata": {},
   "source": [
    "Check the content of *score_mat* by running the following cell, which will add the letters in an easy way."
   ]
  },
  {
   "cell_type": "code",
   "execution_count": 5,
   "id": "8aa31ac3-724d-44bb-9e60-d4bca67b2c7a",
   "metadata": {},
   "outputs": [
    {
     "data": {
      "text/html": [
       "<div>\n",
       "<style scoped>\n",
       "    .dataframe tbody tr th:only-of-type {\n",
       "        vertical-align: middle;\n",
       "    }\n",
       "\n",
       "    .dataframe tbody tr th {\n",
       "        vertical-align: top;\n",
       "    }\n",
       "\n",
       "    .dataframe thead th {\n",
       "        text-align: right;\n",
       "    }\n",
       "</style>\n",
       "<table border=\"1\" class=\"dataframe\">\n",
       "  <thead>\n",
       "    <tr style=\"text-align: right;\">\n",
       "      <th></th>\n",
       "      <th>-</th>\n",
       "      <th>F</th>\n",
       "      <th>A</th>\n",
       "      <th>T</th>\n",
       "    </tr>\n",
       "  </thead>\n",
       "  <tbody>\n",
       "    <tr>\n",
       "      <th>-</th>\n",
       "      <td>0</td>\n",
       "      <td>0</td>\n",
       "      <td>0</td>\n",
       "      <td>0</td>\n",
       "    </tr>\n",
       "    <tr>\n",
       "      <th>F</th>\n",
       "      <td>0</td>\n",
       "      <td>0</td>\n",
       "      <td>0</td>\n",
       "      <td>0</td>\n",
       "    </tr>\n",
       "    <tr>\n",
       "      <th>A</th>\n",
       "      <td>0</td>\n",
       "      <td>0</td>\n",
       "      <td>0</td>\n",
       "      <td>0</td>\n",
       "    </tr>\n",
       "    <tr>\n",
       "      <th>S</th>\n",
       "      <td>0</td>\n",
       "      <td>0</td>\n",
       "      <td>0</td>\n",
       "      <td>0</td>\n",
       "    </tr>\n",
       "    <tr>\n",
       "      <th>T</th>\n",
       "      <td>0</td>\n",
       "      <td>0</td>\n",
       "      <td>0</td>\n",
       "      <td>0</td>\n",
       "    </tr>\n",
       "  </tbody>\n",
       "</table>\n",
       "</div>"
      ],
      "text/plain": [
       "   -  F  A  T\n",
       "-  0  0  0  0\n",
       "F  0  0  0  0\n",
       "A  0  0  0  0\n",
       "S  0  0  0  0\n",
       "T  0  0  0  0"
      ]
     },
     "execution_count": 5,
     "metadata": {},
     "output_type": "execute_result"
    }
   ],
   "source": [
    "import pandas\n",
    "labels_i = list('-' + seq_i)\n",
    "labels_j = list('-' + seq_j)\n",
    "pandas.DataFrame(score_mat, labels_i, labels_j)"
   ]
  },
  {
   "cell_type": "markdown",
   "id": "e586364d-e876-47b6-950c-10ec3ba1ce75",
   "metadata": {
    "jp-MarkdownHeadingCollapsed": true,
    "tags": []
   },
   "source": [
    "Initialize the traceback matrix with all 0s. Agin, use a list of lists."
   ]
  },
  {
   "cell_type": "code",
   "execution_count": 7,
   "id": "10cfbc26-2914-4eae-bfc1-687e4bf07f8f",
   "metadata": {},
   "outputs": [],
   "source": [
    "traceback = [[0] * (len(seq_j) + 1) for x in range(len(seq_i) + 1)]"
   ]
  },
  {
   "cell_type": "markdown",
   "id": "271dcc07-042b-40bc-a085-0f677709d7c0",
   "metadata": {},
   "source": [
    "As before, check that you have what you expect in the *traceback* matrix"
   ]
  },
  {
   "cell_type": "code",
   "execution_count": 8,
   "id": "4c5f33f3-fc51-42b2-898f-e17a7e45e062",
   "metadata": {},
   "outputs": [
    {
     "data": {
      "text/html": [
       "<div>\n",
       "<style scoped>\n",
       "    .dataframe tbody tr th:only-of-type {\n",
       "        vertical-align: middle;\n",
       "    }\n",
       "\n",
       "    .dataframe tbody tr th {\n",
       "        vertical-align: top;\n",
       "    }\n",
       "\n",
       "    .dataframe thead th {\n",
       "        text-align: right;\n",
       "    }\n",
       "</style>\n",
       "<table border=\"1\" class=\"dataframe\">\n",
       "  <thead>\n",
       "    <tr style=\"text-align: right;\">\n",
       "      <th></th>\n",
       "      <th>-</th>\n",
       "      <th>F</th>\n",
       "      <th>A</th>\n",
       "      <th>T</th>\n",
       "    </tr>\n",
       "  </thead>\n",
       "  <tbody>\n",
       "    <tr>\n",
       "      <th>-</th>\n",
       "      <td>0</td>\n",
       "      <td>0</td>\n",
       "      <td>0</td>\n",
       "      <td>0</td>\n",
       "    </tr>\n",
       "    <tr>\n",
       "      <th>F</th>\n",
       "      <td>0</td>\n",
       "      <td>0</td>\n",
       "      <td>0</td>\n",
       "      <td>0</td>\n",
       "    </tr>\n",
       "    <tr>\n",
       "      <th>A</th>\n",
       "      <td>0</td>\n",
       "      <td>0</td>\n",
       "      <td>0</td>\n",
       "      <td>0</td>\n",
       "    </tr>\n",
       "    <tr>\n",
       "      <th>S</th>\n",
       "      <td>0</td>\n",
       "      <td>0</td>\n",
       "      <td>0</td>\n",
       "      <td>0</td>\n",
       "    </tr>\n",
       "    <tr>\n",
       "      <th>T</th>\n",
       "      <td>0</td>\n",
       "      <td>0</td>\n",
       "      <td>0</td>\n",
       "      <td>0</td>\n",
       "    </tr>\n",
       "  </tbody>\n",
       "</table>\n",
       "</div>"
      ],
      "text/plain": [
       "   -  F  A  T\n",
       "-  0  0  0  0\n",
       "F  0  0  0  0\n",
       "A  0  0  0  0\n",
       "S  0  0  0  0\n",
       "T  0  0  0  0"
      ]
     },
     "execution_count": 8,
     "metadata": {},
     "output_type": "execute_result"
    }
   ],
   "source": [
    "pandas.DataFrame(traceback, labels_i, labels_j)"
   ]
  },
  {
   "cell_type": "markdown",
   "id": "cb4274b7-c8e4-4007-9b24-e8b3db7f07d3",
   "metadata": {},
   "source": [
    "Finish the initialization of *score_mat* and *traceback* (first row and first column)"
   ]
  },
  {
   "cell_type": "code",
   "execution_count": 9,
   "id": "981274ca-3c54-4e3e-80fe-af7ab7909bbc",
   "metadata": {},
   "outputs": [],
   "source": [
    "for i in range(1, len(seq_i) + 1):\n",
    "    score_mat[i][0] = score_mat[i-1][0] + gep\n",
    "    traceback[i][0] = 1 #arrow pointing up\n",
    "\n",
    "for j in range(1, len(seq_j) + 1):\n",
    "    score_mat[0][j] = score_mat[0][j-1] + gep\n",
    "    traceback[0][j] = -1 #arrow pointing left"
   ]
  },
  {
   "cell_type": "markdown",
   "id": "e2ad35ba-91b7-43c0-8331-f6b9e31b63fa",
   "metadata": {},
   "source": [
    "Check the current state of *score_mat* and *traceback*"
   ]
  },
  {
   "cell_type": "code",
   "execution_count": 10,
   "id": "141320a4-3540-44db-8497-c2326a1325b3",
   "metadata": {},
   "outputs": [
    {
     "data": {
      "text/html": [
       "<div>\n",
       "<style scoped>\n",
       "    .dataframe tbody tr th:only-of-type {\n",
       "        vertical-align: middle;\n",
       "    }\n",
       "\n",
       "    .dataframe tbody tr th {\n",
       "        vertical-align: top;\n",
       "    }\n",
       "\n",
       "    .dataframe thead th {\n",
       "        text-align: right;\n",
       "    }\n",
       "</style>\n",
       "<table border=\"1\" class=\"dataframe\">\n",
       "  <thead>\n",
       "    <tr style=\"text-align: right;\">\n",
       "      <th></th>\n",
       "      <th>-</th>\n",
       "      <th>F</th>\n",
       "      <th>A</th>\n",
       "      <th>T</th>\n",
       "    </tr>\n",
       "  </thead>\n",
       "  <tbody>\n",
       "    <tr>\n",
       "      <th>-</th>\n",
       "      <td>0</td>\n",
       "      <td>-1</td>\n",
       "      <td>-2</td>\n",
       "      <td>-3</td>\n",
       "    </tr>\n",
       "    <tr>\n",
       "      <th>F</th>\n",
       "      <td>-1</td>\n",
       "      <td>0</td>\n",
       "      <td>0</td>\n",
       "      <td>0</td>\n",
       "    </tr>\n",
       "    <tr>\n",
       "      <th>A</th>\n",
       "      <td>-2</td>\n",
       "      <td>0</td>\n",
       "      <td>0</td>\n",
       "      <td>0</td>\n",
       "    </tr>\n",
       "    <tr>\n",
       "      <th>S</th>\n",
       "      <td>-3</td>\n",
       "      <td>0</td>\n",
       "      <td>0</td>\n",
       "      <td>0</td>\n",
       "    </tr>\n",
       "    <tr>\n",
       "      <th>T</th>\n",
       "      <td>-4</td>\n",
       "      <td>0</td>\n",
       "      <td>0</td>\n",
       "      <td>0</td>\n",
       "    </tr>\n",
       "  </tbody>\n",
       "</table>\n",
       "</div>"
      ],
      "text/plain": [
       "   -  F  A  T\n",
       "-  0 -1 -2 -3\n",
       "F -1  0  0  0\n",
       "A -2  0  0  0\n",
       "S -3  0  0  0\n",
       "T -4  0  0  0"
      ]
     },
     "execution_count": 10,
     "metadata": {},
     "output_type": "execute_result"
    }
   ],
   "source": [
    "pandas.DataFrame(score_mat, labels_i, labels_j)"
   ]
  },
  {
   "cell_type": "code",
   "execution_count": 11,
   "id": "180a53b7-11c9-4edd-b16c-1bbc2ff73d1d",
   "metadata": {},
   "outputs": [
    {
     "data": {
      "text/html": [
       "<div>\n",
       "<style scoped>\n",
       "    .dataframe tbody tr th:only-of-type {\n",
       "        vertical-align: middle;\n",
       "    }\n",
       "\n",
       "    .dataframe tbody tr th {\n",
       "        vertical-align: top;\n",
       "    }\n",
       "\n",
       "    .dataframe thead th {\n",
       "        text-align: right;\n",
       "    }\n",
       "</style>\n",
       "<table border=\"1\" class=\"dataframe\">\n",
       "  <thead>\n",
       "    <tr style=\"text-align: right;\">\n",
       "      <th></th>\n",
       "      <th>-</th>\n",
       "      <th>F</th>\n",
       "      <th>A</th>\n",
       "      <th>T</th>\n",
       "    </tr>\n",
       "  </thead>\n",
       "  <tbody>\n",
       "    <tr>\n",
       "      <th>-</th>\n",
       "      <td>0</td>\n",
       "      <td>-1</td>\n",
       "      <td>-1</td>\n",
       "      <td>-1</td>\n",
       "    </tr>\n",
       "    <tr>\n",
       "      <th>F</th>\n",
       "      <td>1</td>\n",
       "      <td>0</td>\n",
       "      <td>0</td>\n",
       "      <td>0</td>\n",
       "    </tr>\n",
       "    <tr>\n",
       "      <th>A</th>\n",
       "      <td>1</td>\n",
       "      <td>0</td>\n",
       "      <td>0</td>\n",
       "      <td>0</td>\n",
       "    </tr>\n",
       "    <tr>\n",
       "      <th>S</th>\n",
       "      <td>1</td>\n",
       "      <td>0</td>\n",
       "      <td>0</td>\n",
       "      <td>0</td>\n",
       "    </tr>\n",
       "    <tr>\n",
       "      <th>T</th>\n",
       "      <td>1</td>\n",
       "      <td>0</td>\n",
       "      <td>0</td>\n",
       "      <td>0</td>\n",
       "    </tr>\n",
       "  </tbody>\n",
       "</table>\n",
       "</div>"
      ],
      "text/plain": [
       "   -  F  A  T\n",
       "-  0 -1 -1 -1\n",
       "F  1  0  0  0\n",
       "A  1  0  0  0\n",
       "S  1  0  0  0\n",
       "T  1  0  0  0"
      ]
     },
     "execution_count": 11,
     "metadata": {},
     "output_type": "execute_result"
    }
   ],
   "source": [
    "pandas.DataFrame(traceback, labels_i, labels_j)"
   ]
  },
  {
   "cell_type": "markdown",
   "id": "be452400-99b0-4403-ae43-5c630a35569e",
   "metadata": {},
   "source": [
    "We are ready to fill both *score_mat* and *traceback* matrices. But first you will have to fill the gaps in the code:"
   ]
  },
  {
   "cell_type": "code",
   "execution_count": 12,
   "id": "5dcb86a0-f4b7-4877-af44-513940e5a4c7",
   "metadata": {},
   "outputs": [],
   "source": [
    "for i in range(1, len(seq_i) + 1):\n",
    "    for j in range(1, len(seq_j) + 1):\n",
    "        if seq_i[i - 1] == seq_j[j - 1]:\n",
    "            score = match\n",
    "        else:\n",
    "            score = mismatch\n",
    "        \n",
    "        subst = score_mat[i - 1][j - 1] + score\n",
    "        inser = score_mat[i][j - 1] + gep\n",
    "        delet = score_mat[i - 1][j] + gep\n",
    "\n",
    "        if subst >= inser and subst >= delet:\n",
    "            score_mat[i][j] = subst\n",
    "            traceback[i][j] = 0\n",
    "        elif inser >= delet:\n",
    "            score_mat[i][j] = inser\n",
    "            traceback[i][j] = -1\n",
    "        else:\n",
    "            score_mat[i][j] = delet\n",
    "            traceback[i][j] = 1"
   ]
  },
  {
   "cell_type": "markdown",
   "id": "35cb53d5-0932-4550-8a02-a89d3b8b47ec",
   "metadata": {
    "jp-MarkdownHeadingCollapsed": true,
    "tags": []
   },
   "source": [
    "Examine the code above as it is the core of the dynamic program algorithm  "
   ]
  },
  {
   "cell_type": "markdown",
   "id": "d35f279f-2f7c-4882-b729-1dd94a8399eb",
   "metadata": {},
   "source": [
    "Check the content of *score_mat* now:"
   ]
  },
  {
   "cell_type": "code",
   "execution_count": 13,
   "id": "e2cf41b4-3dc0-422f-ae10-323bbefa2368",
   "metadata": {},
   "outputs": [
    {
     "data": {
      "text/html": [
       "<div>\n",
       "<style scoped>\n",
       "    .dataframe tbody tr th:only-of-type {\n",
       "        vertical-align: middle;\n",
       "    }\n",
       "\n",
       "    .dataframe tbody tr th {\n",
       "        vertical-align: top;\n",
       "    }\n",
       "\n",
       "    .dataframe thead th {\n",
       "        text-align: right;\n",
       "    }\n",
       "</style>\n",
       "<table border=\"1\" class=\"dataframe\">\n",
       "  <thead>\n",
       "    <tr style=\"text-align: right;\">\n",
       "      <th></th>\n",
       "      <th>-</th>\n",
       "      <th>F</th>\n",
       "      <th>A</th>\n",
       "      <th>T</th>\n",
       "    </tr>\n",
       "  </thead>\n",
       "  <tbody>\n",
       "    <tr>\n",
       "      <th>-</th>\n",
       "      <td>0</td>\n",
       "      <td>-1</td>\n",
       "      <td>-2</td>\n",
       "      <td>-3</td>\n",
       "    </tr>\n",
       "    <tr>\n",
       "      <th>F</th>\n",
       "      <td>-1</td>\n",
       "      <td>2</td>\n",
       "      <td>1</td>\n",
       "      <td>0</td>\n",
       "    </tr>\n",
       "    <tr>\n",
       "      <th>A</th>\n",
       "      <td>-2</td>\n",
       "      <td>1</td>\n",
       "      <td>4</td>\n",
       "      <td>3</td>\n",
       "    </tr>\n",
       "    <tr>\n",
       "      <th>S</th>\n",
       "      <td>-3</td>\n",
       "      <td>0</td>\n",
       "      <td>3</td>\n",
       "      <td>3</td>\n",
       "    </tr>\n",
       "    <tr>\n",
       "      <th>T</th>\n",
       "      <td>-4</td>\n",
       "      <td>-1</td>\n",
       "      <td>2</td>\n",
       "      <td>5</td>\n",
       "    </tr>\n",
       "  </tbody>\n",
       "</table>\n",
       "</div>"
      ],
      "text/plain": [
       "   -  F  A  T\n",
       "-  0 -1 -2 -3\n",
       "F -1  2  1  0\n",
       "A -2  1  4  3\n",
       "S -3  0  3  3\n",
       "T -4 -1  2  5"
      ]
     },
     "execution_count": 13,
     "metadata": {},
     "output_type": "execute_result"
    }
   ],
   "source": [
    "pandas.DataFrame(score_mat, labels_i, labels_j)"
   ]
  },
  {
   "cell_type": "markdown",
   "id": "b44cd126-78f7-438d-a2bc-1d36487979fb",
   "metadata": {},
   "source": [
    "And the content of *traceback*:"
   ]
  },
  {
   "cell_type": "code",
   "execution_count": 14,
   "id": "2168cc2d-88ff-4b41-8013-a4440ec15b53",
   "metadata": {},
   "outputs": [
    {
     "data": {
      "text/html": [
       "<div>\n",
       "<style scoped>\n",
       "    .dataframe tbody tr th:only-of-type {\n",
       "        vertical-align: middle;\n",
       "    }\n",
       "\n",
       "    .dataframe tbody tr th {\n",
       "        vertical-align: top;\n",
       "    }\n",
       "\n",
       "    .dataframe thead th {\n",
       "        text-align: right;\n",
       "    }\n",
       "</style>\n",
       "<table border=\"1\" class=\"dataframe\">\n",
       "  <thead>\n",
       "    <tr style=\"text-align: right;\">\n",
       "      <th></th>\n",
       "      <th>-</th>\n",
       "      <th>F</th>\n",
       "      <th>A</th>\n",
       "      <th>T</th>\n",
       "    </tr>\n",
       "  </thead>\n",
       "  <tbody>\n",
       "    <tr>\n",
       "      <th>-</th>\n",
       "      <td>0</td>\n",
       "      <td>-1</td>\n",
       "      <td>-1</td>\n",
       "      <td>-1</td>\n",
       "    </tr>\n",
       "    <tr>\n",
       "      <th>F</th>\n",
       "      <td>1</td>\n",
       "      <td>0</td>\n",
       "      <td>-1</td>\n",
       "      <td>-1</td>\n",
       "    </tr>\n",
       "    <tr>\n",
       "      <th>A</th>\n",
       "      <td>1</td>\n",
       "      <td>1</td>\n",
       "      <td>0</td>\n",
       "      <td>-1</td>\n",
       "    </tr>\n",
       "    <tr>\n",
       "      <th>S</th>\n",
       "      <td>1</td>\n",
       "      <td>1</td>\n",
       "      <td>1</td>\n",
       "      <td>0</td>\n",
       "    </tr>\n",
       "    <tr>\n",
       "      <th>T</th>\n",
       "      <td>1</td>\n",
       "      <td>1</td>\n",
       "      <td>1</td>\n",
       "      <td>0</td>\n",
       "    </tr>\n",
       "  </tbody>\n",
       "</table>\n",
       "</div>"
      ],
      "text/plain": [
       "   -  F  A  T\n",
       "-  0 -1 -1 -1\n",
       "F  1  0 -1 -1\n",
       "A  1  1  0 -1\n",
       "S  1  1  1  0\n",
       "T  1  1  1  0"
      ]
     },
     "execution_count": 14,
     "metadata": {},
     "output_type": "execute_result"
    }
   ],
   "source": [
    "pandas.DataFrame(traceback, labels_i, labels_j)"
   ]
  },
  {
   "cell_type": "markdown",
   "id": "a067bbe4-99f4-435b-b76c-f7d77009c706",
   "metadata": {
    "jp-MarkdownHeadingCollapsed": true,
    "tags": []
   },
   "source": [
    "**Q:** Where is the optimal score of the alignment between the two sequences?"
   ]
  },
  {
   "cell_type": "code",
   "execution_count": null,
   "id": "10102c44-6ae4-4088-bc9e-67102a2ccbdd",
   "metadata": {},
   "outputs": [],
   "source": [
    "#The optimal score is in the bottom right cell"
   ]
  },
  {
   "cell_type": "markdown",
   "id": "36a067b9-8bb4-4030-84f8-34b95013d964",
   "metadata": {},
   "source": [
    "Now let's get the alignment. We will have to do the traceback and fill the gaps!"
   ]
  },
  {
   "cell_type": "code",
   "execution_count": 15,
   "id": "469a7a7f-a87a-4600-a7d1-63a534cdf7c3",
   "metadata": {},
   "outputs": [
    {
     "name": "stdout",
     "output_type": "stream",
     "text": [
      "FAST\n",
      "FA-T\n"
     ]
    }
   ],
   "source": [
    "# We initialize the aligned sequences\n",
    "aln_i = []\n",
    "aln_j = []\n",
    "\n",
    "# We start the traceback at the bottom-right corner of the table\n",
    "i = len(seq_i)\n",
    "j = len(seq_j)\n",
    "\n",
    "# We end the traceback at the upper-right corner of the table\n",
    "while i != 0 or j != 0:\n",
    "    if traceback[i][j] == 0:\n",
    "        aln_i.append(seq_i[i - 1])\n",
    "        aln_j.append(seq_j[j - 1])\n",
    "        i -= 1\n",
    "        j -= 1\n",
    "    elif traceback[i][j] == -1:\n",
    "        aln_i.append('-')\n",
    "        aln_j.append(seq_j[j - 1])\n",
    "        j -= 1\n",
    "    else:\n",
    "        aln_i.append(seq_i[i - 1])\n",
    "        aln_j.append('-')\n",
    "        i -= 1\n",
    "alignment_i = ''.join(aln_i[::-1])\n",
    "alignment_j = ''.join(aln_j[::-1])\n",
    "\n",
    "print(alignment_i)\n",
    "print(alignment_j)"
   ]
  },
  {
   "cell_type": "markdown",
   "id": "f0b8d361-a829-4979-81c4-b9fcb220ed87",
   "metadata": {},
   "source": [
    "The alignment is done now. Or not???!!!!  \n",
    "Print the actual alignment as two strings."
   ]
  },
  {
   "cell_type": "code",
   "execution_count": 16,
   "id": "e9323029-8975-470f-bd5b-3881a9c0ed65",
   "metadata": {},
   "outputs": [
    {
     "name": "stdout",
     "output_type": "stream",
     "text": [
      "FAST\n",
      "FAST\n"
     ]
    }
   ],
   "source": [
    "print(alignment_i)\n",
    "print(alignment_i)"
   ]
  },
  {
   "cell_type": "markdown",
   "id": "62171ac6-a774-4d7b-9786-37ee710de584",
   "metadata": {},
   "source": [
    "With the provided *match*, *mismatch* and *gep* values you should get the following:"
   ]
  },
  {
   "cell_type": "raw",
   "id": "2ee25cab-6d7e-4659-9c58-a0dbabcc3ab9",
   "metadata": {},
   "source": [
    "FAST\n",
    "FA-T"
   ]
  },
  {
   "cell_type": "markdown",
   "id": "4ac783b5-5d1d-4f26-9055-992fc59d1660",
   "metadata": {
    "tags": []
   },
   "source": [
    "## Exercise: nw1"
   ]
  },
  {
   "cell_type": "markdown",
   "id": "e5842c07-14d4-437e-933f-8a423eafd715",
   "metadata": {
    "tags": []
   },
   "source": [
    "Create a function to run the NW algorithm more conviniently."
   ]
  },
  {
   "cell_type": "code",
   "execution_count": 17,
   "id": "ac4bf2d0-32da-41f1-b69e-cc8c43a4b517",
   "metadata": {},
   "outputs": [
    {
     "name": "stdout",
     "output_type": "stream",
     "text": [
      "Alignment:\n",
      "THE-FASTCAT\n",
      "THER-A-T---\n"
     ]
    }
   ],
   "source": [
    "import pandas as pd\n",
    "\n",
    "def nw(seq_i, seq_j, match, mismatch, gap):\n",
    "    # Start matrices\n",
    "    score_mat = [[0] * (len(seq_j) + 1) for _ in range(len(seq_i) + 1)]\n",
    "    traceback = [[0] * (len(seq_j) + 1) for _ in range(len(seq_i) + 1)]\n",
    "    \n",
    "    for i in range(1, len(seq_i) + 1):\n",
    "        score_mat[i][0] = gap * i\n",
    "        traceback[i][0] = 1  # arrow pointing up\n",
    "\n",
    "    for j in range(1, len(seq_j) + 1):\n",
    "        score_mat[0][j] = gap * j\n",
    "        traceback[0][j] = -1  # arrow pointing left\n",
    "\n",
    "    # Fill matrices\n",
    "    for i in range(1, len(seq_i) + 1):\n",
    "        for j in range(1, len(seq_j) + 1):\n",
    "            if seq_i[i - 1] == seq_j[j - 1]:\n",
    "                score = match\n",
    "            else:\n",
    "                score = mismatch\n",
    "            \n",
    "            subst = score_mat[i - 1][j - 1] + score\n",
    "            inser = score_mat[i][j - 1] + gap\n",
    "            delet = score_mat[i - 1][j] + gap\n",
    "\n",
    "            if subst > inser and subst > delet:\n",
    "                score_mat[i][j] = subst\n",
    "                traceback[i][j] = 0\n",
    "            elif inser > delet:\n",
    "                score_mat[i][j] = inser\n",
    "                traceback[i][j] = -1\n",
    "            else:\n",
    "                score_mat[i][j] = delet\n",
    "                traceback[i][j] = 1\n",
    "    \n",
    "    # Perform traceback to get alignment\n",
    "    aln_i = []\n",
    "    aln_j = []\n",
    "    i, j = len(seq_i), len(seq_j)\n",
    "    while i != 0 or j != 0:\n",
    "        if traceback[i][j] == 0:\n",
    "            aln_i.append(seq_i[i - 1])\n",
    "            aln_j.append(seq_j[j - 1])\n",
    "            i -= 1\n",
    "            j -= 1\n",
    "        elif traceback[i][j] == -1:\n",
    "            aln_i.append('-')\n",
    "            aln_j.append(seq_j[j - 1])\n",
    "            j -= 1\n",
    "        else:\n",
    "            aln_i.append(seq_i[i - 1])\n",
    "            aln_j.append('-')\n",
    "            i -= 1\n",
    "    \n",
    "    # Reverse alignments \n",
    "    aln_i.reverse()\n",
    "    aln_j.reverse()\n",
    "    \n",
    "    return ''.join(aln_i), ''.join(aln_j)\n",
    "\n",
    "seq1 = 'THEFASTCAT'\n",
    "seq2 = 'THERAT'\n",
    "match = 1\n",
    "mismatch = -8\n",
    "gap = -4\n",
    "alignment_i, alignment_j = nw(seq1, seq2, match, mismatch, gap)\n",
    "print(\"Alignment:\")\n",
    "print(alignment_i)\n",
    "print(alignment_j)\n"
   ]
  },
  {
   "cell_type": "markdown",
   "id": "52341145-d8df-4ccc-895e-7bb488befb50",
   "metadata": {},
   "source": [
    " Tests are in the exercise collection. Continue one you have a function that passes all tests."
   ]
  },
  {
   "cell_type": "markdown",
   "id": "df848300-ffb0-4963-a218-c64c4b6379f2",
   "metadata": {},
   "source": [
    "We will use the fowlloing sequences and parameters"
   ]
  },
  {
   "cell_type": "code",
   "execution_count": null,
   "id": "73d7695f-0a9d-42f3-aea8-fd93cb855ed7",
   "metadata": {},
   "outputs": [],
   "source": [
    "seq1 = 'THEFASTCAT'\n",
    "seq2 = 'THERAT'\n",
    "\n",
    "match = 1\n",
    "mismatch = -8\n",
    "gep = -4"
   ]
  },
  {
   "cell_type": "markdown",
   "id": "a97a7cd4-73b3-40ce-b1a9-0ce3842bc3a9",
   "metadata": {},
   "source": [
    "Run the **nw()** function and display the alignment"
   ]
  },
  {
   "cell_type": "markdown",
   "id": "561912c5-ba13-47be-bec3-78e4af56e340",
   "metadata": {},
   "source": [
    "**Q:** Provinding the 'THEFASTCAT' as seq1 and 'THERAT' as seq2 does not provide the same alignment as if you do it in the opposite order. Why?"
   ]
  },
  {
   "cell_type": "markdown",
   "id": "a6837194-1ecc-48ca-a479-4d7d3542e269",
   "metadata": {},
   "source": [
    "**Q:** Why do think we do not obtain the alignment shown below, which is one column shorter? "
   ]
  },
  {
   "cell_type": "raw",
   "id": "449f2bd6-d098-4c15-b44a-a7d2459bb062",
   "metadata": {},
   "source": [
    "THEFASTCAT\n",
    "THERA-T---"
   ]
  },
  {
   "cell_type": "markdown",
   "id": "51be0c45-d546-46f5-9c4e-65f82cb7d11e",
   "metadata": {},
   "source": [
    "Get the alignment above by changing *mismatch* and *gep*"
   ]
  }
 ],
 "metadata": {
  "kernelspec": {
   "display_name": "Python 3 (ipykernel)",
   "language": "python",
   "name": "python3"
  },
  "language_info": {
   "codemirror_mode": {
    "name": "ipython",
    "version": 3
   },
   "file_extension": ".py",
   "mimetype": "text/x-python",
   "name": "python",
   "nbconvert_exporter": "python",
   "pygments_lexer": "ipython3",
   "version": "3.9.12"
  }
 },
 "nbformat": 4,
 "nbformat_minor": 5
}
