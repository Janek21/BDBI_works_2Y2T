{
 "cells": [
  {
   "cell_type": "markdown",
   "id": "85238ddc",
   "metadata": {},
   "source": [
    "# Building the K-mer spectra from a genome\n",
    "\n",
    "Write functions to:\n",
    "1. Calculate k-mers from DNA sequences. Check it on a sequence with L=33 using k=21. Seq='ATGGACCAGATATAGGGAGAGCCAGGTAGGACA'  How many kmers do you expect from it?\n",
    "2. Calculate them directly from a FASTA file (example fastas read.fasta and Theileria provided)\n",
    "3. Adapt the functions in a python program to plot the k-mer spectra of a fasta file. Apply this to a bacterial genome, Klebsiella pneumoniae:GCF_000240185.1_ASM24018v2_genomic.fasta\n",
    "4. Optional Assignment (via Moodle): write a .py to do this and the plots you get with k=8\n",
    "\n",
    "Information: \n",
    "--------------\n",
    "A method of visualizing k-mers, the k-mer spectrum, shows the multiplicity of each k-mer in a sequence versus the number of k-mers with that multiplicity (see  https://en.wikipedia.org/wiki/K-mer). This is a sort of density plot, notation varies a bit the x-axis basically shows multiplicity of each kmer (number of time is repeated in the sequences or genome) and the y-axis the number of kmers at a given multiplicity (e.g. how many kmers appear 1,2,3,...100 times in the genome). For these reasons, the y-axis is sometimes called frequency and the x-axis counts by some programs.\n",
    "\n",
    "In the case of reads, the multiplicity is \"amplified\" by the sequencing coverage.\n"
   ]
  },
  {
   "cell_type": "code",
   "execution_count": 1,
   "id": "bae99b4d",
   "metadata": {},
   "outputs": [
    {
     "name": "stdout",
     "output_type": "stream",
     "text": [
      "['ATGGACCAGATATAGGGAGAG', 'TGGACCAGATATAGGGAGAGC', 'GGACCAGATATAGGGAGAGCC', 'GACCAGATATAGGGAGAGCCA', 'ACCAGATATAGGGAGAGCCAG', 'CCAGATATAGGGAGAGCCAGG', 'CAGATATAGGGAGAGCCAGGT', 'AGATATAGGGAGAGCCAGGTA', 'GATATAGGGAGAGCCAGGTAG', 'ATATAGGGAGAGCCAGGTAGG', 'TATAGGGAGAGCCAGGTAGGA', 'ATAGGGAGAGCCAGGTAGGAC', 'TAGGGAGAGCCAGGTAGGACA']\n"
     ]
    }
   ],
   "source": [
    "'''\n",
    "1. Calculate k-mers from DNA sequences. Check it on a sequence with L=33 using k=21. Seq='ATGGACCAGATATAGGGAGAGCCAGGTAGGACA'  How many kmers do you expect from it?\n",
    "'''\n",
    "\n",
    "\n",
    "\n",
    "def kmers(seq, k):\n",
    "        kmers = [] #list to store the kmers\n",
    "        n = len(seq) - k + 1 #to not get index out of range we need to reduce the len of the seq by k so then they will still be included as our window occupies those values. The +1 is because of how the range() works\n",
    "        for x in range(n):\n",
    "                kmer = seq[x : x + k] #defining the kmer from the position we are now to k positions forward\n",
    "                kmers.append(kmer) #adding the kmer to the list\n",
    "        return kmers #returning the list of kmers\n",
    "\n",
    "\n",
    "\n",
    "k=21\n",
    "Seq='ATGGACCAGATATAGGGAGAGCCAGGTAGGACA'\n",
    "\n",
    "print(kmers(Seq, k))"
   ]
  },
  {
   "cell_type": "markdown",
   "id": "3489a9eb",
   "metadata": {},
   "source": [
    "'''\n",
    "2. Calculate them directly from a FASTA file (example fastas read.fasta and Theileria provided)\n",
    "'''\n",
    "def reading_and_formatting_seq(fasta_path):\n",
    "    from Bio import SeqIO #importing the package inside the function so we can use it later or in other scripts without having to import again\n",
    "    \n",
    "    input = list(SeqIO.parse(fasta_path, 'fasta')) #opening the fasta file\n",
    "\n",
    "    sequences = [] #here we will store the sequences\n",
    "\n",
    "    for case in input: #itterating through the different sequences in the fasta file\n",
    "        sequence = case.seq #fro the case we retrieve only the sequence\n",
    "        sequence = str(sequence.upper()) #we thransform the whole sequence to uppercase letters and the añso to string to not obtain an error\n",
    "        sequences.append(sequence) #we append the formated sequence to our list of sequences \n",
    "    \n",
    "    return sequences #returning all the sequences\n",
    "\n",
    "\n",
    "import os # Library that I will use to get the path\n",
    "\n",
    "file_path = os.getcwd() + \"/fasta/Theileria_2500bp.fa\"\n",
    "\n",
    "sequences = reading_and_formatting_seq(file_path)\n",
    "\n",
    "print(sequences)"
   ]
  },
  {
   "cell_type": "code",
   "execution_count": 4,
   "id": "bfdb0374",
   "metadata": {},
   "outputs": [
    {
     "ename": "IndentationError",
     "evalue": "expected an indented block after function definition on line 4 (1225802417.py, line 7)",
     "output_type": "error",
     "traceback": [
      "\u001b[0;36m  Cell \u001b[0;32mIn[4], line 7\u001b[0;36m\u001b[0m\n\u001b[0;31m    def kmers_from_file(file_path, k_size):\u001b[0m\n\u001b[0m    ^\u001b[0m\n\u001b[0;31mIndentationError\u001b[0m\u001b[0;31m:\u001b[0m expected an indented block after function definition on line 4\n"
     ]
    }
   ],
   "source": [
    "'''\n",
    "3. Adapt the functions in a python program to plot the k-mer spectra of a fasta file. Apply this to a bacterial genome, Klebsiella pneumoniae:GCF_000240185.1_ASM24018v2_genomic.fasta\n",
    "'''\n",
    "def final_boss_kmer(file_path, k):\n",
    "\n",
    "    kmers = [] #here I will store all my kmers\n",
    "\n",
    "    sequences = reading_and_formatting_seq(file_path) #using the function from the prevuous exercise to have all the sequences formated in a list\n",
    "\n",
    "    for sequence in sequences:\n",
    "        seq_kmers = \n",
    "\n",
    "\n",
    "def kmers_from_file(file_path, k_size):\n",
    "\n",
    "    kmers = [] # Creating an empty list to store the kmers\n",
    "\n",
    "    sequences = get_seq(file_path)  # Using our previously created function to get all the sequences from the fasta file\n",
    "\n",
    "    # Iterting through each of the sequences\n",
    "    for seq in sequences:\n",
    "\n",
    "        sub_kmers = create_kmers(seq, k_size)  # Getting all possible kmers from a sequence\n",
    "        kmers += sub_kmers # Putting all the sub_kmers into the list with all of them\n",
    "\n",
    "    return(kmers) # Getting the list with all of the kmers\n",
    "\n",
    "'''\n",
    "Implementation of the function kmers_from_file\n",
    "'''\n",
    "\n",
    "import os\n",
    "\n",
    "file_path = os.getcwd() + \"/fasta/read.fasta\" # Path of the file\n",
    "k_size = 100\n",
    "\n",
    "kmers = kmers_from_file(file_path, k_size)\n",
    "\n",
    "print(kmers)"
   ]
  },
  {
   "cell_type": "code",
   "execution_count": null,
   "id": "f7a9004e",
   "metadata": {},
   "outputs": [],
   "source": []
  }
 ],
 "metadata": {
  "kernelspec": {
   "display_name": "Python 3 (ipykernel)",
   "language": "python",
   "name": "python3"
  },
  "language_info": {
   "codemirror_mode": {
    "name": "ipython",
    "version": 3
   },
   "file_extension": ".py",
   "mimetype": "text/x-python",
   "name": "python",
   "nbconvert_exporter": "python",
   "pygments_lexer": "ipython3",
   "version": "3.10.12"
  }
 },
 "nbformat": 4,
 "nbformat_minor": 5
}
