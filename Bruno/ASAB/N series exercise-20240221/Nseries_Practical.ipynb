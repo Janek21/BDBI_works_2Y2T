{
 "cells": [
  {
   "cell_type": "markdown",
   "id": "085d4b81-1fd4-4630-a79b-10f3c4f49829",
   "metadata": {},
   "source": [
    "##  Computing Nseries Exercise: \n",
    "\n",
    "Let's use all the scaffolds contained in plant_contaminants.fa to compute the Nseries and other interesting sequence statistics for genome assemblies. \n",
    "\n",
    "  A - let's use all the scaffolds contained in plant_contaminants.fa to compute the Nseries and other interesting sequence statistics for genome assemblies:\n",
    "\n",
    "    1. Write python functions to retrieve this information: N50, L50, N90,L90.\n",
    "    2. Print also the maximum and minimum scaffold length.\n",
    "    3. Use same functions to retrieve the whole Nseries and Lseries. Starting from ≥0% and incrementing it 5 by 5, i.e. N0,N5...until N100\n",
    "\n",
    "B - compute now the Nseries for the Caenorhabditis afra assembly. As file is larger than 40 MB, you'll need to uncompress the .zip file provided in the Aula ESCI. Finally, examine the fasta:   \n",
    "\n",
    "   4.1. Which assembly is longer this or the plant contaminants one?\n",
    "   \n",
    "   4.2. Which one includes the shortest scaffolds?\n",
    "   \n",
    "   4.3. Which one is more contiguous attending to the N50?\n",
    "   \n",
    "   4.4. Is the N50 doing a fair comparison between both assemblies? why?\n"
   ]
  },
  {
   "cell_type": "code",
   "execution_count": 22,
   "id": "638c2a55",
   "metadata": {},
   "outputs": [
    {
     "name": "stdout",
     "output_type": "stream",
     "text": [
      "N0: 745751\n",
      "L50: 13\n",
      "N30: 5721672\n",
      "L30: 8\n",
      "N0: 745751\n",
      "L0: 1\n",
      "N100: 16869422\n",
      "L100: 36\n"
     ]
    }
   ],
   "source": [
    "from Bio import SeqIO\n",
    "import statistics\n",
    "\n",
    "def calculate_lengths(filename):\n",
    "    lengths = []\n",
    "    for record in SeqIO.parse(filename, \"fasta\"):\n",
    "        lengths.append(len(record.seq))\n",
    "    return lengths\n",
    "        \n",
    "def Lx(lengths, x):\n",
    "    lengths.sort(reverse=True)\n",
    "    n =  []\n",
    "    N = sum(lengths)\n",
    "    for length in lengths:\n",
    "        n.append(length)\n",
    "        if sum(n) >= N *  (x/100):\n",
    "            return f'L{x}: {len(n)}' \n",
    "\n",
    "def N_x(lengths, x):\n",
    "    \n",
    "    lengths.sort(reverse = True)\n",
    "    total_length = sum(lengths)\n",
    "    current_length = 0\n",
    "    \n",
    "    \n",
    "    for case in lengths:\n",
    "        current_length += case\n",
    "        \n",
    "        if current_length >=  x * (total_length/100):\n",
    "\n",
    "            return f'N{x}: {current_length}'\n",
    "\n",
    "\n",
    "def calculate_min_max(lengths):\n",
    "    return min(lengths), max(lengths)        \n",
    "\n",
    "filename = \"plant_contaminants.fa\"\n",
    "lengths = calculate_lengths(filename)\n",
    "\n",
    "N50 = N_x(lengths, 0)\n",
    "N30 = N_x(lengths, 30)\n",
    "N0 = N_x(lengths, 0)\n",
    "N100 = N_x(lengths, 100)\n",
    "\n",
    "L50 = Lx(lengths, 50)\n",
    "L30 = Lx(lengths,30)\n",
    "L0 = Lx(lengths, 0)\n",
    "L100 = Lx(lengths, 100)\n",
    "\n",
    "print(N50)\n",
    "print(L50)\n",
    "\n",
    "print(N30)\n",
    "print(L30)\n",
    "\n",
    "print(N0)\n",
    "print(L0)\n",
    "\n",
    "print(N100)\n",
    "print(L100)\n",
    "\n",
    "def min_and_max(lengths):\n",
    "    return min(lengths), max(lengths)\n",
    "min, max = min_and_max(lengths)\n",
    "print(f'min is: '{min})"
   ]
  },
  {
   "cell_type": "code",
   "execution_count": 23,
   "id": "e71091de",
   "metadata": {},
   "outputs": [
    {
     "name": "stdout",
     "output_type": "stream",
     "text": [
      "N0: 745751 L0: 1\n",
      "N5: 742537 L5: 2\n",
      "N10: 739748 L10: 3\n",
      "N15: 716602 L15: 4\n",
      "N20: 714651 L20: 5\n",
      "N25: 702208 L25: 6\n",
      "N30: 675346 L30: 8\n",
      "N35: 666816 L35: 9\n",
      "N40: 654595 L40: 10\n",
      "N45: 629517 L45: 11\n",
      "N50: 596352 L50: 13\n",
      "N55: 582573 L55: 14\n",
      "N60: 574960 L60: 16\n",
      "N65: 573434 L65: 17\n",
      "N70: 562643 L70: 19\n",
      "N75: 516869 L75: 20\n",
      "N80: 465823 L80: 22\n",
      "N85: 384502 L85: 24\n",
      "N90: 328634 L90: 26\n",
      "N95: 270161 L95: 29\n",
      "N100: 2595 L100: 36\n",
      "Total length: 16869422\n",
      "Minimum Scaffold Length: 2595\n",
      "Maximum Scaffold Length: 745751\n"
     ]
    }
   ],
   "source": [
    "for x in range(0,105,5):\n",
    "    N = Nx(lengths,x)\n",
    "    L = Lx(lengths, x)\n",
    "    print(f'{N} {L}')\n",
    "n = 0\n",
    "for i in lengths:\n",
    "    n+=i\n",
    "print(f'Total length: {n}')\n",
    "min_length, max_length = calculate_min_max(lengths)\n",
    "print(f\"Minimum Scaffold Length: {min_length}\")\n",
    "print(f\"Maximum Scaffold Length: {max_length}\")\n"
   ]
  },
  {
   "cell_type": "code",
   "execution_count": 24,
   "id": "972e335d",
   "metadata": {},
   "outputs": [
    {
     "ename": "FileNotFoundError",
     "evalue": "[Errno 2] No such file or directory: 'CaeAfra1.1_genomic.fa'",
     "output_type": "error",
     "traceback": [
      "\u001b[0;31m---------------------------------------------------------------------------\u001b[0m",
      "\u001b[0;31mFileNotFoundError\u001b[0m                         Traceback (most recent call last)",
      "Cell \u001b[0;32mIn[24], line 2\u001b[0m\n\u001b[1;32m      1\u001b[0m filename2 \u001b[38;5;241m=\u001b[39m \u001b[38;5;124m'\u001b[39m\u001b[38;5;124mCaeAfra1.1_genomic.fa\u001b[39m\u001b[38;5;124m'\u001b[39m\n\u001b[0;32m----> 2\u001b[0m lengths2 \u001b[38;5;241m=\u001b[39m \u001b[43mcalculate_lengths\u001b[49m\u001b[43m(\u001b[49m\u001b[43mfilename2\u001b[49m\u001b[43m)\u001b[49m\n\u001b[1;32m      3\u001b[0m \u001b[38;5;28;01mfor\u001b[39;00m x \u001b[38;5;129;01min\u001b[39;00m \u001b[38;5;28mrange\u001b[39m(\u001b[38;5;241m0\u001b[39m,\u001b[38;5;241m105\u001b[39m,\u001b[38;5;241m5\u001b[39m):\n\u001b[1;32m      4\u001b[0m     N \u001b[38;5;241m=\u001b[39m Nx(lengths2,x)\n",
      "Cell \u001b[0;32mIn[22], line 6\u001b[0m, in \u001b[0;36mcalculate_lengths\u001b[0;34m(filename)\u001b[0m\n\u001b[1;32m      4\u001b[0m \u001b[38;5;28;01mdef\u001b[39;00m \u001b[38;5;21mcalculate_lengths\u001b[39m(filename):\n\u001b[1;32m      5\u001b[0m     lengths \u001b[38;5;241m=\u001b[39m []\n\u001b[0;32m----> 6\u001b[0m     \u001b[38;5;28;01mfor\u001b[39;00m record \u001b[38;5;129;01min\u001b[39;00m \u001b[43mSeqIO\u001b[49m\u001b[38;5;241;43m.\u001b[39;49m\u001b[43mparse\u001b[49m\u001b[43m(\u001b[49m\u001b[43mfilename\u001b[49m\u001b[43m,\u001b[49m\u001b[43m \u001b[49m\u001b[38;5;124;43m\"\u001b[39;49m\u001b[38;5;124;43mfasta\u001b[39;49m\u001b[38;5;124;43m\"\u001b[39;49m\u001b[43m)\u001b[49m:\n\u001b[1;32m      7\u001b[0m         lengths\u001b[38;5;241m.\u001b[39mappend(\u001b[38;5;28mlen\u001b[39m(record\u001b[38;5;241m.\u001b[39mseq))\n\u001b[1;32m      8\u001b[0m     \u001b[38;5;28;01mreturn\u001b[39;00m lengths\n",
      "File \u001b[0;32m~/.local/lib/python3.10/site-packages/Bio/SeqIO/__init__.py:605\u001b[0m, in \u001b[0;36mparse\u001b[0;34m(handle, format, alphabet)\u001b[0m\n\u001b[1;32m    603\u001b[0m iterator_generator \u001b[38;5;241m=\u001b[39m _FormatToIterator\u001b[38;5;241m.\u001b[39mget(\u001b[38;5;28mformat\u001b[39m)\n\u001b[1;32m    604\u001b[0m \u001b[38;5;28;01mif\u001b[39;00m iterator_generator:\n\u001b[0;32m--> 605\u001b[0m     \u001b[38;5;28;01mreturn\u001b[39;00m \u001b[43miterator_generator\u001b[49m\u001b[43m(\u001b[49m\u001b[43mhandle\u001b[49m\u001b[43m)\u001b[49m\n\u001b[1;32m    606\u001b[0m \u001b[38;5;28;01mif\u001b[39;00m \u001b[38;5;28mformat\u001b[39m \u001b[38;5;129;01min\u001b[39;00m AlignIO\u001b[38;5;241m.\u001b[39m_FormatToIterator:\n\u001b[1;32m    607\u001b[0m     \u001b[38;5;66;03m# Use Bio.AlignIO to read in the alignments\u001b[39;00m\n\u001b[1;32m    608\u001b[0m     \u001b[38;5;28;01mreturn\u001b[39;00m (r \u001b[38;5;28;01mfor\u001b[39;00m alignment \u001b[38;5;129;01min\u001b[39;00m AlignIO\u001b[38;5;241m.\u001b[39mparse(handle, \u001b[38;5;28mformat\u001b[39m) \u001b[38;5;28;01mfor\u001b[39;00m r \u001b[38;5;129;01min\u001b[39;00m alignment)\n",
      "File \u001b[0;32m~/.local/lib/python3.10/site-packages/Bio/SeqIO/FastaIO.py:223\u001b[0m, in \u001b[0;36mFastaIterator.__init__\u001b[0;34m(self, source, alphabet, title2ids)\u001b[0m\n\u001b[1;32m    204\u001b[0m     warnings\u001b[38;5;241m.\u001b[39mwarn(\n\u001b[1;32m    205\u001b[0m         \u001b[38;5;124m\"\u001b[39m\u001b[38;5;124mThe title2ids argument is deprecated. Instead, please use a \u001b[39m\u001b[38;5;124m\"\u001b[39m\n\u001b[1;32m    206\u001b[0m         \u001b[38;5;124m\"\u001b[39m\u001b[38;5;124mgenerator function to modify records returned by the parser. \u001b[39m\u001b[38;5;124m\"\u001b[39m\n\u001b[0;32m   (...)\u001b[0m\n\u001b[1;32m    220\u001b[0m         BiopythonDeprecationWarning,\n\u001b[1;32m    221\u001b[0m     )\n\u001b[1;32m    222\u001b[0m \u001b[38;5;28mself\u001b[39m\u001b[38;5;241m.\u001b[39mtitle2ids \u001b[38;5;241m=\u001b[39m title2ids\n\u001b[0;32m--> 223\u001b[0m \u001b[38;5;28;43msuper\u001b[39;49m\u001b[43m(\u001b[49m\u001b[43m)\u001b[49m\u001b[38;5;241;43m.\u001b[39;49m\u001b[38;5;21;43m__init__\u001b[39;49m\u001b[43m(\u001b[49m\u001b[43msource\u001b[49m\u001b[43m,\u001b[49m\u001b[43m \u001b[49m\u001b[43mmode\u001b[49m\u001b[38;5;241;43m=\u001b[39;49m\u001b[38;5;124;43m\"\u001b[39;49m\u001b[38;5;124;43mt\u001b[39;49m\u001b[38;5;124;43m\"\u001b[39;49m\u001b[43m,\u001b[49m\u001b[43m \u001b[49m\u001b[43mfmt\u001b[49m\u001b[38;5;241;43m=\u001b[39;49m\u001b[38;5;124;43m\"\u001b[39;49m\u001b[38;5;124;43mFasta\u001b[39;49m\u001b[38;5;124;43m\"\u001b[39;49m\u001b[43m)\u001b[49m\n",
      "File \u001b[0;32m~/.local/lib/python3.10/site-packages/Bio/SeqIO/Interfaces.py:45\u001b[0m, in \u001b[0;36mSequenceIterator.__init__\u001b[0;34m(self, source, alphabet, mode, fmt)\u001b[0m\n\u001b[1;32m     43\u001b[0m     \u001b[38;5;28;01mraise\u001b[39;00m \u001b[38;5;167;01mValueError\u001b[39;00m(\u001b[38;5;124m\"\u001b[39m\u001b[38;5;124mThe alphabet argument is no longer supported\u001b[39m\u001b[38;5;124m\"\u001b[39m)\n\u001b[1;32m     44\u001b[0m \u001b[38;5;28;01mtry\u001b[39;00m:\n\u001b[0;32m---> 45\u001b[0m     \u001b[38;5;28mself\u001b[39m\u001b[38;5;241m.\u001b[39mstream \u001b[38;5;241m=\u001b[39m \u001b[38;5;28;43mopen\u001b[39;49m\u001b[43m(\u001b[49m\u001b[43msource\u001b[49m\u001b[43m,\u001b[49m\u001b[43m \u001b[49m\u001b[38;5;124;43m\"\u001b[39;49m\u001b[38;5;124;43mr\u001b[39;49m\u001b[38;5;124;43m\"\u001b[39;49m\u001b[43m \u001b[49m\u001b[38;5;241;43m+\u001b[39;49m\u001b[43m \u001b[49m\u001b[43mmode\u001b[49m\u001b[43m)\u001b[49m\n\u001b[1;32m     46\u001b[0m     \u001b[38;5;28mself\u001b[39m\u001b[38;5;241m.\u001b[39mshould_close_stream \u001b[38;5;241m=\u001b[39m \u001b[38;5;28;01mTrue\u001b[39;00m\n\u001b[1;32m     47\u001b[0m \u001b[38;5;28;01mexcept\u001b[39;00m \u001b[38;5;167;01mTypeError\u001b[39;00m:  \u001b[38;5;66;03m# not a path, assume we received a stream\u001b[39;00m\n",
      "\u001b[0;31mFileNotFoundError\u001b[0m: [Errno 2] No such file or directory: 'CaeAfra1.1_genomic.fa'"
     ]
    }
   ],
   "source": [
    "filename2 = 'CaeAfra1.1_genomic.fa'\n",
    "lengths2 = calculate_lengths(filename2)\n",
    "for x in range(0,105,5):\n",
    "    N = Nx(lengths2,x)\n",
    "    L = Lx(lengths2, x)\n",
    "    print(f'{N} {L}')\n",
    "n = 0\n",
    "for i in lengths2:\n",
    "    n+=i\n",
    "print(f'Total length: {n}')\n",
    "min_length, max_length = calculate_min_max(lengths2)\n",
    "print(f\"Minimum Scaffold Length: {min_length}\")\n",
    "print(f\"Maximum Scaffold Length: {max_length}\")"
   ]
  }
 ],
 "metadata": {
  "kernelspec": {
   "display_name": "Python 3 (ipykernel)",
   "language": "python",
   "name": "python3"
  },
  "language_info": {
   "codemirror_mode": {
    "name": "ipython",
    "version": 3
   },
   "file_extension": ".py",
   "mimetype": "text/x-python",
   "name": "python",
   "nbconvert_exporter": "python",
   "pygments_lexer": "ipython3",
   "version": "3.10.12"
  }
 },
 "nbformat": 4,
 "nbformat_minor": 5
}
