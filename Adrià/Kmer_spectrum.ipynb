{
 "cells": [
  {
   "cell_type": "markdown",
   "id": "85238ddc",
   "metadata": {},
   "source": [
    "# Building the K-mer spectra from a genome\n",
    "\n",
    "Write functions to:\n",
    "1. Calculate k-mers from DNA sequences. Check it on a sequence with L=33 using k=21.How many kmers do you expect from it?\n",
    "2. Calculate them directly from a FASTA file (example fastas provided)\n",
    "3. Adapt the functions in a python program to plot the k-mer spectra of a fasta file. Apply this to a bacterial genome: https://ftp.ncbi.nlm.nih.gov/genomes/all/GCF/000/240/185/GCF_000240185.1_ASM24018v2/GCF_000240185.1_ASM24018v2_genomic.fna.gz\n",
    "\n",
    "\n",
    "Information: the k-mer spectra is useful to understand the architecture and complexity of a genome"
   ]
  },
  {
   "cell_type": "code",
   "execution_count": 1,
   "id": "9de13457",
   "metadata": {},
   "outputs": [
    {
     "data": {
      "text/plain": [
       "['ATGGACCAGATATAGGGAGAG',\n",
       " 'TGGACCAGATATAGGGAGAGC',\n",
       " 'GGACCAGATATAGGGAGAGCC',\n",
       " 'GACCAGATATAGGGAGAGCCA',\n",
       " 'ACCAGATATAGGGAGAGCCAG',\n",
       " 'CCAGATATAGGGAGAGCCAGG',\n",
       " 'CAGATATAGGGAGAGCCAGGT',\n",
       " 'AGATATAGGGAGAGCCAGGTA',\n",
       " 'GATATAGGGAGAGCCAGGTAG',\n",
       " 'ATATAGGGAGAGCCAGGTAGG',\n",
       " 'TATAGGGAGAGCCAGGTAGGA',\n",
       " 'ATAGGGAGAGCCAGGTAGGAC',\n",
       " 'TAGGGAGAGCCAGGTAGGACA']"
      ]
     },
     "execution_count": 1,
     "metadata": {},
     "output_type": "execute_result"
    }
   ],
   "source": [
    "'''\n",
    "To extract k-mers from DNA sequences, we walk over the sequence with a 1-bp sliding window.\n",
    "Returns a list of all the kmers of the size input that are in the sequence.\n",
    "'''\n",
    "\n",
    "def build_kmers(sequence, ksize):\n",
    "    # List to store the kmers\n",
    "    kmers = [] \n",
    "    # Formula to calculate the number of kmers that will generated from the sequence\n",
    "    n_kmers = len(sequence) - ksize + 1\n",
    "    # Iterate over the number of kmers\n",
    "    for i in range(n_kmers):\n",
    "        # Select each kmer from the sequence using a sliding window of size ksize\n",
    "        kmer = sequence[i:i + ksize]\n",
    "        # Append the kmer to the list\n",
    "        kmers.append(kmer)\n",
    "    # Return the list of kmers\n",
    "    return kmers\n",
    "\n",
    "# Check. total 21-mers in a 33bp sequence are 13\n",
    "build_kmers('ATGGACCAGATATAGGGAGAGCCAGGTAGGACA', 21)\n"
   ]
  },
  {
   "cell_type": "code",
   "execution_count": 11,
   "id": "ae01699a",
   "metadata": {},
   "outputs": [
    {
     "data": {
      "text/plain": [
       "['TTTTTTTTTTTTTTATTTGCGTTGAAGTATATTTATTCCCTGTAACTCTTGGTTCTTGTGACGTTGTTTATCCTAGAGTTAATCTTTATAGTTTATTGCTTCAGCCTATAGGTTTTGGACTTGTTGTATCTTCTGTATTTCTTGAAGTTGGAAATGGAACTGGATGGACACTGTATCCTCCTCTGTCCACTTCAATTGCTAGCGCTGGAATTGATTTTATTATATTTGGTCTTTTATCTGCTGGAATAGCAAGTACACTAAGTAGCGTAAATTTTATAACAACTTTTACTTCTATTAAGGTTATTGGATTTGTTATAGATAGAATTCTGCCTATTGCTTGGTCAATTGTTTTAACTTCTTTCTTATTGCTTTTATCTTTGCCTGTCGTTACTGCTGTATTTTTGATGGTATTTTTCGACAGACATTATAATACTATGTTTTTTGAATCTTCTAATTCTGGAGATCCTGTATTATATCAACATTTATTTTGGTTTTTTGGACATCCAGAAGTATATATAATGATACTGCCTGGATTTGGTGTAATAAGTTTAATGCTATCTACTTTTGCTACTAAAGAAATGTTTGGAAATCAAACTATGATTTTAGCGATGGGTTCTATAGCTTTGTTAGGATGTTTAGTTTGGGGACATCATATGTACACTTCTGGATTAGAAGCAGACACTAGAGGTTATTTCACTACAGTTACAATACTTATTTCTTTACCAACTGGAAATAAAGTATTTAATTGGGTAACAACTTTACAAGGTGCAACTACAGTTAGAAATATTGGAGTTGTGGTTTTCGGATTTTTATTTGTTATAAATTTTGTAATTGGAGGAACAACTGGAGTTGTTTTAGGTAATGCTGGTGTTGATATAGCTTTACATGATACTGTATATGTTGTTGGACATTTTCATTTTGTATTGTCAATAGGAGCTATAACATCATTGCTATGTTACATAATGTATATTCAAAGAATGTTATATGGTGTTATATTTAAAAATAAAGTTATTCTTATAATGGCCCCAATATTTATGTCAGCTGTTATGTGTACATTCTTTCCAATGCATTTCGCAGGATTTGCTCCTTTTCCTAGAAGAATACCAGATTATCCTGATGGAATATGGGGATGGAATTTTATATGTACTATTGGAGCTACTATGATGTTGATATTAAAATTTGCAATTATAATGGCAATATCATTATAAACTAATATTAATGGTTTTAAAATCTGAGGGGAAGTTCCGCCGGGAAGTTGGCGTCTAAGAGAGTCTTGTTTCAAATGTATATTTGATGAAGCCGGAGTACGTAAGGAATAGGAAAGATTAACCGCTATCAAAATCTTTTATAATTTTGATGTTAGAAAACATTTTAAATACATTAATTTGTATATTTTTTATAATTGCACTAAGTCAGAATCATCCTATTTATCAGTACATTAACGTGTTACAAATTCTTTGCCTTGGATGTCAGTTATTGCGTTAACTACATATTGAAATGTTAGAGGTAGTGTAATCAGTGGAACATATTGTTTAATTTGATTCTACACACTATATCTTACTGATAATTTTTCGTAATTAAATATTTCAGTAAATATTGTAATCTAACTTTATTTAATACTCTAGTATTAACCTTACACCGTTAAAATGGTGTTGGAAAAAATAAAGTTAACAGATAAATTCCATTTGAACAATTATAGATTGTTCTCTGTGAAATCTTTTATGAAGAGAAATGACCTATTATAAGTTACTGTATATACTGATATTTTCATTACTCAAATTAACATAATTCCAGAAGGTTTTGTATTGTTATTATATTTTAAAAATATTTGAGAGTAGAAAGAAAGATGATGGAAGTTGGAATTGATATTAGACGTCAAAAAGTACTAGACGTTGAATGTGTCTTAGCAGTGTTATATATAACTACATAAAGTATTTCAAACTTTTCTATATAAAATTGATTACAGCATTCAAGCATACATAAGGATTGGATATCATATTGAAAGATCATGCAGTGCCAGCAGCCGCGGCAATACTGTATAATCCGAGTATAGTAAATTCATATTTGGCAAAAAACGAGTTCATGTTTGAGAAGATTATGTGATATATATATTCTACATAAATTTTAATACAGAGCTAGAACATATAGTTGGCACGAAGGTACGCCAGGGACAACAGGCCAAAGGTTAATTACAGATCTTATGTAATTAACCTATTGACACCTCCATGTCGTCTCACCATACCTTAATGTTTTGCAAGACTTTGAAAAGAGAAGTACAGGTGCCCAGGGTCTCAACGTCCCCAGTATATCAAGCTTCCTATTCAAAGCTAAGTCTATAACATAGAGAACTTAGTGGAGACAATAGAGAAGACGTAGAGCCATAAACCGATACTATTATTTAGACTAATATCAGTTACAAATACGCAAGGACCATCAGAAGGACCATAAGGCAACGAAAAGGACTCAGACAAGACATCGATTTAACCTTAACTTACCAAAGTTGACTCGAAGACGTACCGAAAAAAAATAGATAAATCATAAAAGACTACGAAATACCGGAAGCAAAAACAAACCGGGCAAAGATAAACACCAAAA']"
      ]
     },
     "execution_count": 11,
     "metadata": {},
     "output_type": "execute_result"
    }
   ],
   "source": [
    "'''\n",
    "Load our fasta as usual in this case a partial mitochondrial sequence of 2595bp. Have a look at the sequence \n",
    "and adapt the code accordingly to what you see.\n",
    "\n",
    "Takes as an input a file name.\n",
    "Returns a list of upercassed DNA sequences contained in the file. --> Because in the file the sequence contains\n",
    "both uppercase letters and not.\n",
    "'''\n",
    "\n",
    "def load_sequence (file):\n",
    "    # Convert the parsed sequences into a list\n",
    "    from Bio import SeqIO\n",
    "    seq_records=(list(SeqIO.parse(file, \"fasta\")))\n",
    "    \n",
    "    # Initialize an empty list to store the uppercased sequences\n",
    "    upperseqList=[]\n",
    "    \n",
    "    # Iterate over the list of parsed sequences\n",
    "    for T in seq_records:\n",
    "        # Extract the sequence\n",
    "        sequence = T.seq\n",
    "        # Uppercase the extracted sequence\n",
    "        sequence = sequence.upper()   \n",
    "        # Append to the list\n",
    "        upperseqList.append(str(sequence))\n",
    "    # Return the uppercased sequences\n",
    "    return (upperseqList)\n",
    "\n",
    "load_sequence (\"Theileria_2500bp.fa\")"
   ]
  },
  {
   "cell_type": "code",
   "execution_count": 13,
   "id": "134fff6e",
   "metadata": {},
   "outputs": [
    {
     "name": "stdout",
     "output_type": "stream",
     "text": [
      "Length: 562643 Seq: CCCACACACA\n",
      "Length: 230218 Seq: CCACACCACA\n",
      "Length: 316620 Seq: CCCACACACC\n",
      "Length: 576874 Seq: CGTCTCCTCC\n",
      "Length: 270161 Seq: GATCTCGCAA\n",
      "Length: 439888 Seq: CACACACACC\n",
      "Length: 745751 Seq: CCCACACACA\n",
      "Length: 666816 Seq: CACCACACCC\n",
      "Length: 268986 Seq: TAACCCTAAC\n",
      "Length: 384502 Seq: TAACCCTAAC\n",
      "Length: 40291 Seq: GCGGAAGATG\n",
      "Length: 355712 Seq: TTAACCCTAA\n",
      "Length: 472852 Seq: CCTAACCCTA\n",
      "Length: 465823 Seq: CTAACCCTAA\n",
      "Length: 516869 Seq: CCTAACCCTA\n",
      "Length: 596352 Seq: CCCTAACCTA\n",
      "Length: 574960 Seq: TAACCCTAAC\n",
      "Length: 573434 Seq: AACCCTAACC\n",
      "Length: 570865 Seq: CTAACCCTAA\n",
      "Length: 582573 Seq: CTAACCCTAA\n",
      "Length: 675346 Seq: CCCTAACCCT\n",
      "Length: 654595 Seq: TACCCTAACC\n",
      "Length: 622644 Seq: AACCCTAACC\n",
      "Length: 629517 Seq: ACCCTAACCC\n",
      "Length: 714651 Seq: AACCCTAACC\n",
      "Length: 684829 Seq: GGTTAGGGTT\n",
      "Length: 739748 Seq: CCTAACCCTA\n",
      "Length: 702208 Seq: AACCCTAACC\n",
      "Length: 742537 Seq: CCCTAACCCT\n",
      "Length: 716602 Seq: TAACCCTAAC\n",
      "Length: 109570 Seq: TATTACCAGT\n",
      "Length: 21875 Seq: TGCTTGATAA\n",
      "Length: 328634 Seq: AAAGAAAAAT\n",
      "Length: 2595 Seq: TTTTTTTTTT\n",
      "Length: 24173 Seq: CATGGCTATT\n",
      "Length: 287708 Seq: ATATGCTCAC\n"
     ]
    }
   ],
   "source": [
    "'''\n",
    "Print the length of each sequence of the fasta file and the first 10 amino acids of each sequence\n",
    "'''\n",
    "\n",
    "for S in (load_sequence(\"plant_contaminants.fa\")):\n",
    "    print (\"Length:\",len(S),\"Seq:\", S[0:10])"
   ]
  },
  {
   "cell_type": "code",
   "execution_count": 21,
   "id": "70285fec",
   "metadata": {},
   "outputs": [
    {
     "data": {
      "text/plain": [
       "['CTCACATGATTCTTGCCTGCGGGTTGGGGTAGGAGTCAGAGTCACATGAGACAGATAGTTCGCTCAGAAACTGGGGATAGATCGATCAAAGCCTCGCTTCATATGGCTCCACATG',\n",
       " 'TCACATGATTCTTGCCTGCGGGTTGGGGTAGGAGTCAGAGTCACATGAGACAGATAGTTCGCTCAGAAACTGGGGATAGATCGATCAAAGCCTCGCTTCATATGGCTCCACATGG',\n",
       " 'CACATGATTCTTGCCTGCGGGTTGGGGTAGGAGTCAGAGTCACATGAGACAGATAGTTCGCTCAGAAACTGGGGATAGATCGATCAAAGCCTCGCTTCATATGGCTCCACATGGT',\n",
       " 'ACATGATTCTTGCCTGCGGGTTGGGGTAGGAGTCAGAGTCACATGAGACAGATAGTTCGCTCAGAAACTGGGGATAGATCGATCAAAGCCTCGCTTCATATGGCTCCACATGGTG',\n",
       " 'CATGATTCTTGCCTGCGGGTTGGGGTAGGAGTCAGAGTCACATGAGACAGATAGTTCGCTCAGAAACTGGGGATAGATCGATCAAAGCCTCGCTTCATATGGCTCCACATGGTGT',\n",
       " 'ATGATTCTTGCCTGCGGGTTGGGGTAGGAGTCAGAGTCACATGAGACAGATAGTTCGCTCAGAAACTGGGGATAGATCGATCAAAGCCTCGCTTCATATGGCTCCACATGGTGTT']"
      ]
     },
     "execution_count": 21,
     "metadata": {},
     "output_type": "execute_result"
    }
   ],
   "source": [
    "'''\n",
    "The input is a fasta file and an integer value that is the size of the kmers\n",
    "'''\n",
    "\n",
    "def read_kmers_from_file(fasta, ksize):\n",
    "    # List to store all the kmers we obtain\n",
    "    all_kmers = [] \n",
    "    for sequence in fasta:\n",
    "        # Kmers are the kmers we obtain of each sequence with the build_kmers() function\n",
    "        kmers = build_kmers(sequence, ksize)\n",
    "        # Add the kmers to the list\n",
    "        all_kmers += kmers\n",
    "    # Print the list\n",
    "    return all_kmers\n",
    "\n",
    "read_kmers_from_file((load_sequence (\"read.fasta\")), 115)"
   ]
  },
  {
   "cell_type": "code",
   "execution_count": 22,
   "id": "bae99b4d",
   "metadata": {},
   "outputs": [],
   "source": [
    "'''\n",
    "PLOT\n",
    "\n",
    "Function that takes in a fasta file and a k-mer size and retursn a plot of the k-mer spectra.\n",
    "'''\n",
    "\n",
    "def kmer_spectra_from_file(fasta, ksize):\n",
    "    # Initializes an empty list that will store all the k-mers from the fasta file\n",
    "    all_kmers = []\n",
    "    \n",
    "    # Iterates over the sequences of the file\n",
    "    for sequence in fasta:\n",
    "        # For each sequence calls the build_kmers() function to generate all the kmers of the given size\n",
    "        kmers = build_kmers(sequence, ksize)\n",
    "        # Add these kmers to the list\n",
    "        all_kmers += kmers\n",
    "        \n",
    "    '''  \n",
    "    Calculate the number of occurrences counts of each kmer\n",
    "    ''' \n",
    "    # Dictionary to store the counts of each k-mer\n",
    "    kmultiplicity = {}\n",
    "    \n",
    "    # Iterate over the k-mers\n",
    "    for i in all_kmers:\n",
    "        # Convert it to a string and check if it already exist in the dictionary\n",
    "        if str(i) in kmultiplicity.keys():\n",
    "            # If it does, we increment the count\n",
    "            kmultiplicity[str(i)] += 1;\n",
    "        else:\n",
    "            # If it doesn't, a new key is added to the dictionary with a count of 1\n",
    "            kmultiplicity[str(i)] = 1;\n",
    "     \n",
    "    '''\n",
    "    Write kmer multiplicities into a temporary csv file\n",
    "    Opens a temporary csv file and writes the k-mer counts from the dictionary to the file.\n",
    "    '''\n",
    "    import csv\n",
    "    with open('temp.csv', 'w') as f:\n",
    "        for key in kmultiplicity.keys():\n",
    "            f.write(\"%s,%s\\n\"%(key,kmultiplicity[key]))\n",
    "         \n",
    "    \n",
    "    '''\n",
    "    Do the plot\n",
    "    '''\n",
    "    import pandas as pd\n",
    "    import matplotlib.pyplot as plt\n",
    "    \n",
    "    # Read the temporary csv file into a data frame with columns \"kmer\" and \"counts\"\n",
    "    spectra_df = pd.read_csv('temp.csv', names = [\"Kmer\", \"Counts\"])\n",
    "      \n",
    "    # Groups the data frame by k-mer count and adds a new column \"frequency\" that stores the number of unique \n",
    "    # k-mers with each count\n",
    "    spectra_df['Frequency'] = spectra_df.groupby('Counts')['Kmer'].transform('size')\n",
    "    \n",
    "    # Generates a scatter plot of k-mer frequency versus k-mer count or multiplicity\n",
    "    plt.scatter(x = spectra_df.Counts, y = spectra_df.Frequency ,s = 1)\n",
    "    \n",
    "    # Names of the axis\n",
    "    plt.xlabel('Kmer Count (or multiplicity)')\n",
    "    plt.ylabel('Kmer Frequency')\n",
    "    plt.title('Kmer Spectra')\n",
    "    \n"
   ]
  },
  {
   "cell_type": "code",
   "execution_count": 23,
   "id": "3489a9eb",
   "metadata": {},
   "outputs": [
    {
     "data": {
      "image/png": "[encoded data removed]",
      "text/plain": [
       "<Figure size 432x288 with 1 Axes>"
      ]
     },
     "metadata": {
      "needs_background": "light"
     },
     "output_type": "display_data"
    }
   ],
   "source": [
    "kmer_spectra_from_file(load_sequence(\"read.fasta\"), 3)"
   ]
  },
  {
   "cell_type": "code",
   "execution_count": 24,
   "id": "8178476f",
   "metadata": {},
   "outputs": [
    {
     "data": {
      "image/png": "[encoded data removed]",
      "text/plain": [
       "<Figure size 432x288 with 1 Axes>"
      ]
     },
     "metadata": {
      "needs_background": "light"
     },
     "output_type": "display_data"
    }
   ],
   "source": [
    "kmer_spectra_from_file(load_sequence(\"GCF_000240185.1_ASM24018v2_genomic.fasta\"), 8)"
   ]
  }
 ],
 "metadata": {
  "kernelspec": {
   "display_name": "Python 3 (ipykernel)",
   "language": "python",
   "name": "python3"
  },
  "language_info": {
   "codemirror_mode": {
    "name": "ipython",
    "version": 3
   },
   "file_extension": ".py",
   "mimetype": "text/x-python",
   "name": "python",
   "nbconvert_exporter": "python",
   "pygments_lexer": "ipython3",
   "version": "3.9.12"
  }
 },
 "nbformat": 4,
 "nbformat_minor": 5
}
