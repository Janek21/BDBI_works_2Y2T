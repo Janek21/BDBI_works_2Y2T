{
 "cells": [
  {
   "cell_type": "markdown",
   "id": "085d4b81-1fd4-4630-a79b-10f3c4f49829",
   "metadata": {},
   "source": [
    "##  Computing Nseries Exercise: \n",
    "\n",
    "Let's use all the scaffolds contained in plant_contaminants.fa to compute the Nseries and other interesting sequence statistics for genome assemblies. \n",
    "\n",
    "  A - let's use all the scaffolds contained in plant_contaminants.fa to compute the Nseries and other interesting sequence statistics for genome assemblies:\n",
    "\n",
    "    1. Write python functions to retrieve this information: N50, L50, N90,L90.\n",
    "    2. Print also the maximum and minimum scaffold length.\n",
    "    3. Use same functions to retrieve the whole Nseries and Lseries. Starting from ≥0% and incrementing it 5 by 5, i.e. N0,N5...until N100\n",
    "\n",
    "B - compute now the Nseries for the Caenorhabditis afra assembly. As file is larger than 40 MB, you'll need to uncompress the .zip file provided in the Aula ESCI. Finally, examine the fasta:   \n",
    "\n",
    "   4.1. Which assembly is longer this or the plant contaminants one?\n",
    "   \n",
    "   4.2. Which one includes the shortest scaffolds?\n",
    "   \n",
    "   4.3. Which one is more contiguous attending to the N50?\n",
    "   \n",
    "   4.4. Is the N50 doing a fair comparison between both assemblies? why?\n"
   ]
  },
  {
   "cell_type": "code",
   "execution_count": 4,
   "id": "638c2a55",
   "metadata": {},
   "outputs": [],
   "source": [
    "from Bio import SeqIO"
   ]
  },
  {
   "cell_type": "code",
   "execution_count": 18,
   "id": "cbf0f844",
   "metadata": {},
   "outputs": [],
   "source": [
    "records = list(SeqIO.parse(\"plant_contaminants.fa\", \"fasta\"))"
   ]
  },
  {
   "cell_type": "code",
   "execution_count": 62,
   "id": "c38fa240",
   "metadata": {},
   "outputs": [
    {
     "name": "stdout",
     "output_type": "stream",
     "text": [
      "N50: 596352\n",
      "L50: 13\n",
      "N90: 328634\n",
      "L90: 26\n"
     ]
    }
   ],
   "source": [
    "sorted_records = reversed(sorted(records, key= len))\n",
    "\n",
    "fa_overall_lens = [len(record.seq) for record in sorted_records]\n",
    "\n",
    "fa_length = sum(fa_overall_lens)\n",
    "\n",
    "def N_L(length, overall_lens ,percentage):\n",
    "    max_length = length*percentage\n",
    "    suma = 0\n",
    "    for max_pos in range(len(overall_lens)):\n",
    "        suma += overall_lens[max_pos]\n",
    "        if suma >= max_length:\n",
    "            return overall_lens[max_pos],max_pos+1\n",
    "\n",
    "result50 = N_L(fa_length, fa_overall_lens, 0.50)\n",
    "print(f'N50: {result50[0]}\\nL50: {result50[1]}')\n",
    "\n",
    "result90 = N_L(fa_length, fa_overall_lens, 0.90)\n",
    "print(f'N90: {result90[0]}\\nL90: {result90[1]}')"
   ]
  },
  {
   "cell_type": "code",
   "execution_count": 53,
   "id": "12dd7116",
   "metadata": {},
   "outputs": [
    {
     "name": "stdout",
     "output_type": "stream",
     "text": [
      "745751 // 2595\n"
     ]
    }
   ],
   "source": [
    "max = fa_overall_lens[0]\n",
    "min = fa_overall_lens[len(fa_overall_lens)-1]\n",
    "\n",
    "print(max,'//', min)"
   ]
  },
  {
   "cell_type": "code",
   "execution_count": 65,
   "id": "cd7c2ce1",
   "metadata": {},
   "outputs": [
    {
     "name": "stdout",
     "output_type": "stream",
     "text": [
      " For 5 we have N5 = 742537 and L5 = 2\n",
      "\n",
      " For 10 we have N10 = 739748 and L10 = 3\n",
      "\n",
      " For 15 we have N15 = 716602 and L15 = 4\n",
      "\n",
      " For 20 we have N20 = 714651 and L20 = 5\n",
      "\n",
      " For 25 we have N25 = 702208 and L25 = 6\n",
      "\n",
      " For 30 we have N30 = 675346 and L30 = 8\n",
      "\n",
      " For 35 we have N35 = 666816 and L35 = 9\n",
      "\n",
      " For 40 we have N40 = 654595 and L40 = 10\n",
      "\n",
      " For 45 we have N45 = 629517 and L45 = 11\n",
      "\n",
      " For 50 we have N50 = 596352 and L50 = 13\n",
      "\n",
      " For 55 we have N55 = 582573 and L55 = 14\n",
      "\n",
      " For 60 we have N60 = 574960 and L60 = 16\n",
      "\n",
      " For 65 we have N65 = 573434 and L65 = 17\n",
      "\n",
      " For 70 we have N70 = 562643 and L70 = 19\n",
      "\n",
      " For 75 we have N75 = 516869 and L75 = 20\n",
      "\n",
      " For 80 we have N80 = 465823 and L80 = 22\n",
      "\n",
      " For 85 we have N85 = 384502 and L85 = 24\n",
      "\n",
      " For 90 we have N90 = 328634 and L90 = 26\n",
      "\n",
      " For 95 we have N95 = 270161 and L95 = 29\n",
      "\n",
      " For 100 we have N100 = 2595 and L100 = 36\n",
      "\n"
     ]
    }
   ],
   "source": [
    "for per in range(5,105,5):\n",
    "    result = N_L(fa_length, fa_overall_lens, per/100)\n",
    "    print(f' For {per} we have N{per} = {result[0]} and L{per} = {result[1]}\\n')"
   ]
  },
  {
   "cell_type": "code",
   "execution_count": 66,
   "id": "31003430",
   "metadata": {},
   "outputs": [
    {
     "name": "stdout",
     "output_type": "stream",
     "text": [
      " For 5 we have N5 = 17708429 and L5 = 1\n",
      "\n",
      " For 10 we have N10 = 17708429 and L10 = 1\n",
      "\n",
      " For 15 we have N15 = 17708429 and L15 = 1\n",
      "\n",
      " For 20 we have N20 = 17708429 and L20 = 1\n",
      "\n",
      " For 25 we have N25 = 17708429 and L25 = 1\n",
      "\n",
      " For 30 we have N30 = 12207686 and L30 = 2\n",
      "\n",
      " For 35 we have N35 = 12207686 and L35 = 2\n",
      "\n",
      " For 40 we have N40 = 12207686 and L40 = 2\n",
      "\n",
      " For 45 we have N45 = 10185359 and L45 = 3\n",
      "\n",
      " For 50 we have N50 = 10185359 and L50 = 3\n",
      "\n",
      " For 55 we have N55 = 10185359 and L55 = 3\n",
      "\n",
      " For 60 we have N60 = 9901019 and L60 = 4\n",
      "\n",
      " For 65 we have N65 = 9901019 and L65 = 4\n",
      "\n",
      " For 70 we have N70 = 9901019 and L70 = 4\n",
      "\n",
      " For 75 we have N75 = 9720948 and L75 = 5\n",
      "\n",
      " For 80 we have N80 = 9720948 and L80 = 5\n",
      "\n",
      " For 85 we have N85 = 9720948 and L85 = 5\n",
      "\n",
      " For 90 we have N90 = 9235572 and L90 = 6\n",
      "\n",
      " For 95 we have N95 = 9235572 and L95 = 6\n",
      "\n",
      " For 100 we have N100 = 14185 and L100 = 7\n",
      "\n"
     ]
    }
   ],
   "source": [
    "records2 = list(SeqIO.parse(\"other.fa\", \"fasta\"))\n",
    "\n",
    "sorted_records2 = reversed(sorted(records2, key= len))\n",
    "\n",
    "fa_overall_lens2 = [len(record.seq) for record in sorted_records2]\n",
    "\n",
    "fa_length2 = sum(fa_overall_lens2)\n",
    "\n",
    "for per in range(5,105,5):\n",
    "    result = N_L(fa_length2, fa_overall_lens2, per/100)\n",
    "    print(f' For {per} we have N{per} = {result[0]} and L{per} = {result[1]}\\n')"
   ]
  },
  {
   "cell_type": "code",
   "execution_count": 77,
   "id": "2c4f2603",
   "metadata": {},
   "outputs": [
    {
     "data": {
      "image/png": "[encoded data removed]",
      "text/plain": [
       "<Figure size 640x480 with 1 Axes>"
      ]
     },
     "metadata": {},
     "output_type": "display_data"
    }
   ],
   "source": [
    "import matplotlib.pyplot as plt\n",
    "\n",
    "N1 = []\n",
    "L1 = []\n",
    "\n",
    "N2 = []\n",
    "L2 = []\n",
    "for per in range(5,105,5):\n",
    "    result = N_L(fa_length2, fa_overall_lens2, per/100)\n",
    "    L2.append(result[1]*(result[0]/fa_length2))\n",
    "\n",
    "\n",
    "for per in range(5,105,5):\n",
    "    result = N_L(fa_length, fa_overall_lens, per/100)\n",
    "    L1.append(result[1]*(result[0]/fa_length))\n",
    "\n",
    "\n",
    "# Create a plot\n",
    "plt.plot(L1, color = 'red', label='L1')\n",
    "plt.plot(L2, color = 'blue', label='L2')\n",
    "\n",
    "# Add labels and title\n",
    "plt.xlabel('X-axis Label')\n",
    "plt.ylabel('Y-axis Label')\n",
    "plt.title('Plot with Two Lists')\n",
    "\n",
    "# Add legend\n",
    "plt.legend()\n",
    "\n",
    "# Show the plot\n",
    "plt.show()\n"
   ]
  }
 ],
 "metadata": {
  "kernelspec": {
   "display_name": "Python 3 (ipykernel)",
   "language": "python",
   "name": "python3"
  },
  "language_info": {
   "codemirror_mode": {
    "name": "ipython",
    "version": 3
   },
   "file_extension": ".py",
   "mimetype": "text/x-python",
   "name": "python",
   "nbconvert_exporter": "python",
   "pygments_lexer": "ipython3",
   "version": "3.11.7"
  }
 },
 "nbformat": 4,
 "nbformat_minor": 5
}
