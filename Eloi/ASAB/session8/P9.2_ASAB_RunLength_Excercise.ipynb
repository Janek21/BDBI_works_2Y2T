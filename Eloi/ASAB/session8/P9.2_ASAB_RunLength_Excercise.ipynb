{
 "cells": [
  {
   "cell_type": "markdown",
   "metadata": {},
   "source": [
    "## Practical Session 9.2. A Python Excercise To Store a DNA sequence in Run-Length Encoding\n",
    "\n",
    "In run-length encoding runs of data (consecutive nucleotides) are stored as a string with the single data value and count (consecutive ocurrences), rather than as the original sequence.\n",
    "\n",
    "Please write a little piece of code with functions to do this with the two sequences below. The functions have to encode the sequence and return the run-length encoded sequence.\n",
    "\n",
    "Anecdotically:  Do this remind you of any of the file formats used to store sequence data?\n",
    "\n",
    "ASAB, February 2024"
   ]
  },
  {
   "cell_type": "code",
   "execution_count": 3,
   "metadata": {},
   "outputs": [],
   "source": [
    "#A piece of DNA with suffix\n",
    "Read='AACTTGTGGAATTTGTTGAGAAA$'"
   ]
  },
  {
   "cell_type": "code",
   "execution_count": 17,
   "metadata": {},
   "outputs": [],
   "source": [
    "#Another piece of DNA\n",
    "Read2='AAAAAAAAAAATTGCGCGGGGCAAAAAA$'"
   ]
  },
  {
   "cell_type": "code",
   "execution_count": 21,
   "metadata": {},
   "outputs": [
    {
     "name": "stdout",
     "output_type": "stream",
     "text": [
      "A11T2G1C1G1C1G4C1A6\n"
     ]
    }
   ],
   "source": [
    "def run_length_encoding(Read):\n",
    "    solutions = []\n",
    "    petita = []\n",
    "    for nuc in range(len(Read)-1): \n",
    "        petita.append(Read[nuc])   \n",
    "        if Read[nuc] != Read[nuc+1]: \n",
    "            solutions.append(petita)\n",
    "            petita = []\n",
    "    return ''.join([f'{x[0]}{len(x)}' for x in solutions])\n",
    "\n",
    "print(run_length_encoding(Read2))"
   ]
  }
 ],
 "metadata": {
  "kernelspec": {
   "display_name": "Python 3 (ipykernel)",
   "language": "python",
   "name": "python3"
  },
  "language_info": {
   "codemirror_mode": {
    "name": "ipython",
    "version": 3
   },
   "file_extension": ".py",
   "mimetype": "text/x-python",
   "name": "python",
   "nbconvert_exporter": "python",
   "pygments_lexer": "ipython3",
   "version": "3.11.7"
  }
 },
 "nbformat": 4,
 "nbformat_minor": 4
}
