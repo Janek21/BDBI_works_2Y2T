{
 "cells": [
  {
   "cell_type": "markdown",
   "metadata": {},
   "source": [
    "## Practical Session 9.1. The Burrow Wheeler's Transform (BWT) and FM index \n",
    "ASAB. February, 2024"
   ]
  },
  {
   "cell_type": "markdown",
   "metadata": {},
   "source": [
    "**1) Reversible permutation**: to build the BWT, first we need to do all reversible permutations of the characters in string T. That means \"rotating\" the sequence characters, while keeping the same length."
   ]
  },
  {
   "cell_type": "code",
   "execution_count": 11,
   "metadata": {},
   "outputs": [],
   "source": [
    "#Here we define a function for rotating a string the way describe above\n",
    "def rotation(L, c):\n",
    "    if c == -1:\n",
    "        return []\n",
    "    newL = L[-1] + L[:-1]\n",
    "    return [newL]+ rotation(newL,c-1)\n",
    "\n"
   ]
  },
  {
   "cell_type": "markdown",
   "metadata": {},
   "source": [
    "Do all the possible rotations of the simple string T = 'alba' using the function defined above "
   ]
  },
  {
   "cell_type": "code",
   "execution_count": 12,
   "metadata": {},
   "outputs": [
    {
     "name": "stdout",
     "output_type": "stream",
     "text": [
      "['aalb', 'baal', 'lbaa', 'alba']\n"
     ]
    }
   ],
   "source": [
    "#Run rotations('alba')\n",
    "print(rotation('alba',len('alba')-1))"
   ]
  },
  {
   "cell_type": "markdown",
   "metadata": {},
   "source": [
    "Check the results.  What is the length of the rotated strings?"
   ]
  },
  {
   "cell_type": "markdown",
   "metadata": {},
   "source": [
    "Redefine the function to automatically add a \"$\" and keep track of the of the suffix (and right-context). Let's name it rotations_suffix"
   ]
  },
  {
   "cell_type": "code",
   "execution_count": 21,
   "metadata": {},
   "outputs": [
    {
     "name": "stdout",
     "output_type": "stream",
     "text": [
      "['$alba', 'a$alb', 'ba$al', 'lba$a', 'alba$']\n"
     ]
    }
   ],
   "source": [
    "# Run rotations_suffix('alba')\n",
    "def rotations_suffix(L, c):\n",
    "    if c == len(L):\n",
    "        L = L+'$'\n",
    "    if c == -1:\n",
    "        return []\n",
    "    newL = L[-1] + L[:-1]\n",
    "    return [newL]+ rotation(newL,c-1)\n",
    "\n",
    "print(rotations_suffix('alba',len('alba')))"
   ]
  },
  {
   "cell_type": "markdown",
   "metadata": {},
   "source": [
    "How do the output looks like now? Do rotations_suffix('abaaba')"
   ]
  },
  {
   "cell_type": "markdown",
   "metadata": {},
   "source": [
    "**2) Sort alphabetically**: to build the Burrow Wheeler Matrix, then we will sort the \"rotations\" alphabetically. Let's define a function to do so using rotations_suffix. Build bwm function"
   ]
  },
  {
   "cell_type": "code",
   "execution_count": 33,
   "metadata": {},
   "outputs": [],
   "source": [
    "def BWM_BWT(L):\n",
    "    sorted_list = sorted(rotations_suffix(L,len(L)))\n",
    "    string_bwm = ''.join(string[len(string)-1] for string in sorted_list)\n",
    "    return string_bwm,  '\\n'.join(sorted_list)\n"
   ]
  },
  {
   "cell_type": "code",
   "execution_count": 36,
   "metadata": {
    "tags": []
   },
   "outputs": [
    {
     "name": "stdout",
     "output_type": "stream",
     "text": [
      "$alba\n",
      "a$alb\n",
      "alba$\n",
      "ba$al\n",
      "lba$a\n"
     ]
    }
   ],
   "source": [
    "# now run bwm ('alba')\n",
    "print(BWM_BWT('alba')[1])"
   ]
  },
  {
   "cell_type": "code",
   "execution_count": null,
   "metadata": {},
   "outputs": [],
   "source": [
    "# show the matrix for string alba\n",
    "'''\n",
    "$alba\n",
    "a$alb\n",
    "alba$\n",
    "ba$al\n",
    "lba$a\n",
    "'''"
   ]
  },
  {
   "cell_type": "markdown",
   "metadata": {},
   "source": [
    "Inspect the output, is the matrix (BWM) sorted alphabetically and shows the suffix symbol?"
   ]
  },
  {
   "cell_type": "markdown",
   "metadata": {},
   "source": [
    "**3) Burrows-Wheeler's Transform:** we now need to be sure we are picking the last element column of the matrix (BWT)"
   ]
  },
  {
   "cell_type": "code",
   "execution_count": 37,
   "metadata": {},
   "outputs": [
    {
     "name": "stdout",
     "output_type": "stream",
     "text": [
      "ab$la\n"
     ]
    }
   ],
   "source": [
    "print(BWM_BWT('alba')[0])"
   ]
  },
  {
   "cell_type": "markdown",
   "metadata": {},
   "source": [
    "**4) FMIndex** Pick the first an last elements of the BWM and print them side by side"
   ]
  },
  {
   "cell_type": "code",
   "execution_count": 38,
   "metadata": {},
   "outputs": [],
   "source": [
    "def FMI(L):\n",
    "    sorted_list = sorted(rotations_suffix(L, len(L)))\n",
    "    first_string = ''.join(string[0] for string in sorted_list) \n",
    "    last_string = ''.join(string[len(string)-1] for string in sorted_list)\n",
    "    return first_string, last_string"
   ]
  },
  {
   "cell_type": "markdown",
   "metadata": {},
   "source": [
    "**5) Sanity check** test your functions with strings 'abaaba' and 'missisipi'"
   ]
  },
  {
   "cell_type": "code",
   "execution_count": 39,
   "metadata": {},
   "outputs": [
    {
     "name": "stdout",
     "output_type": "stream",
     "text": [
      "('$aaaabb', 'abba$aa')\n",
      "('$iiiimpsss', 'ipssm$iisi')\n"
     ]
    }
   ],
   "source": [
    "print(FMI('abaaba'))\n",
    "print(FMI('missisipi'))"
   ]
  }
 ],
 "metadata": {
  "kernelspec": {
   "display_name": "Python 3 (ipykernel)",
   "language": "python",
   "name": "python3"
  },
  "language_info": {
   "codemirror_mode": {
    "name": "ipython",
    "version": 3
   },
   "file_extension": ".py",
   "mimetype": "text/x-python",
   "name": "python",
   "nbconvert_exporter": "python",
   "pygments_lexer": "ipython3",
   "version": "3.11.7"
  }
 },
 "nbformat": 4,
 "nbformat_minor": 4
}
