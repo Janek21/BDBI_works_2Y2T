{
 "cells": [
  {
   "cell_type": "markdown",
   "id": "92735c55-a0c2-40b0-8aa5-7908015ee53c",
   "metadata": {},
   "source": [
    "# Binary Trees: preparation for the progressive multiple sequnce alignment"
   ]
  },
  {
   "cell_type": "markdown",
   "id": "962060c5-5aaa-40fb-b8ac-9b1bbe632690",
   "metadata": {},
   "source": [
    "Get familiar with the Newick format. We will use Biopython to read Newick trees and draw them. "
   ]
  },
  {
   "cell_type": "code",
   "execution_count": 23,
   "id": "23987e2f-fd8d-494e-a8c4-adea0f9bb23f",
   "metadata": {},
   "outputs": [],
   "source": [
    "from Bio import Phylo\n",
    "from io import StringIO"
   ]
  },
  {
   "cell_type": "code",
   "execution_count": 24,
   "id": "36b61693-fe80-41d4-9075-a74f3270e55a",
   "metadata": {},
   "outputs": [
    {
     "name": "stdout",
     "output_type": "stream",
     "text": [
      "                                                    ________________________ A\n",
      "                           ________________________|\n",
      "                          |                        |________________________ B\n",
      "  ________________________|\n",
      " |                        |                         ________________________ C\n",
      " |                        |________________________|\n",
      "_|                                                 |________________________ D\n",
      " |\n",
      " |                         ________________________ E\n",
      " |________________________|\n",
      "                          |________________________ F\n",
      "\n"
     ]
    }
   ],
   "source": [
    "newick_str = \"((A, B),(C, D)),(E,F)\"\n",
    "handle = StringIO(newick_str)\n",
    "tree = Phylo.read(handle, \"newick\")\n",
    "Phylo.draw_ascii(tree)"
   ]
  },
  {
   "cell_type": "markdown",
   "id": "e6406e37-b610-42c2-bb9b-05e4a4bca51c",
   "metadata": {},
   "source": [
    "The script below does the same job, but it takes the tree from a file."
   ]
  },
  {
   "cell_type": "code",
   "execution_count": 25,
   "id": "79b4af19-8e10-40e6-85f2-6c4671ff1d5d",
   "metadata": {},
   "outputs": [
    {
     "name": "stdout",
     "output_type": "stream",
     "text": [
      "                                                    ________________________ A\n",
      "                           ________________________|\n",
      "                          |                        |________________________ B\n",
      "  ________________________|\n",
      " |                        |                         ________________________ C\n",
      " |                        |________________________|\n",
      "_|                                                 |________________________ D\n",
      " |\n",
      " |                         ________________________ E\n",
      " |________________________|\n",
      "                          |________________________ F\n",
      "\n"
     ]
    }
   ],
   "source": [
    "!python drawtree.py tree_abcdef.dnd"
   ]
  },
  {
   "cell_type": "markdown",
   "id": "1673121a-a0dc-4846-8ab3-75fb76a4d059",
   "metadata": {},
   "source": [
    "## Create nodes"
   ]
  },
  {
   "cell_type": "markdown",
   "id": "973a1d2d-7582-4dd4-bbda-a1b1f7f54d95",
   "metadata": {},
   "source": [
    "We will now import a module that will allow to create nodes from a tree in Newick format"
   ]
  },
  {
   "cell_type": "code",
   "execution_count": 26,
   "id": "503678ad-cd57-430d-bc54-0481f846d3e5",
   "metadata": {},
   "outputs": [],
   "source": [
    "from tree_nodes import *"
   ]
  },
  {
   "cell_type": "markdown",
   "id": "ac302db7-2ccd-476a-9042-47d9a2841bc0",
   "metadata": {},
   "source": [
    "The only thing you need to know about this module is that it brings a class *Node*"
   ]
  },
  {
   "cell_type": "code",
   "execution_count": 27,
   "id": "6f1073d0-6823-4d14-a633-d48a022c9b1b",
   "metadata": {},
   "outputs": [
    {
     "name": "stdout",
     "output_type": "stream",
     "text": [
      "class Node:\n",
      "    def __init__(self):\n",
      "        self.name = \"\"\n",
      "        self.distance = 0.0\n",
      "        self.bootstrap = 0.0\n",
      "        self.left = 0\n",
      "        self.right = 0\n",
      "        self.parent = 0\n",
      "\n",
      "    def __repr__(self):\n",
      "        return \"node_\" + self.name\n",
      "\n"
     ]
    }
   ],
   "source": [
    "!head tree_nodes.py -n 12"
   ]
  },
  {
   "cell_type": "markdown",
   "id": "1a9242cd-1ce4-46ce-8dfb-564801063c2d",
   "metadata": {},
   "source": [
    "And a *newick2nodes()* function that creates the nodes from a Newick string."
   ]
  },
  {
   "cell_type": "code",
   "execution_count": 28,
   "id": "55947642-c093-49ad-b57d-806ca4e6fd00",
   "metadata": {},
   "outputs": [
    {
     "data": {
      "text/plain": [
       "{0: node_,\n",
       " 1: node_,\n",
       " 2: node_,\n",
       " 3: node_,\n",
       " 4: node_A,\n",
       " 5: node_B,\n",
       " 6: node_,\n",
       " 7: node_C,\n",
       " 8: node_D,\n",
       " 9: node_,\n",
       " 10: node_E,\n",
       " 11: node_F}"
      ]
     },
     "execution_count": 28,
     "metadata": {},
     "output_type": "execute_result"
    }
   ],
   "source": [
    "nodes = newick_line2nodes(\"(((A,B),(C,D)),(E,F));\")\n",
    "nodes"
   ]
  },
  {
   "cell_type": "markdown",
   "id": "0bc9df62-bd1d-446f-8178-a3069344bdb7",
   "metadata": {},
   "source": [
    "Notice that the variable *nodes* is a dictionary that contains the *node number* as key and the *node object* as value (represented by the node name)."
   ]
  },
  {
   "cell_type": "markdown",
   "id": "5bdc322d-76ee-45dd-94b4-956929b47f7f",
   "metadata": {},
   "source": [
    "The following gives the node object with id 8"
   ]
  },
  {
   "cell_type": "code",
   "execution_count": 29,
   "id": "ab32c96d-57e6-45a8-b594-68699901b49d",
   "metadata": {},
   "outputs": [
    {
     "data": {
      "text/plain": [
       "node_D"
      ]
     },
     "execution_count": 29,
     "metadata": {},
     "output_type": "execute_result"
    }
   ],
   "source": [
    "nodes[8]"
   ]
  },
  {
   "cell_type": "markdown",
   "id": "46372fb8-c4f9-4ea8-9ded-da662cc83bf0",
   "metadata": {},
   "source": [
    "You can use the *dir()* funciton to list the attributes of the node object. We will be using: **name**, **parent**, **left**, and **right**"
   ]
  },
  {
   "cell_type": "code",
   "execution_count": 30,
   "id": "ff5d5981-daa7-4c37-a796-19e5a82f2bbe",
   "metadata": {},
   "outputs": [
    {
     "data": {
      "text/plain": [
       "['__class__',\n",
       " '__delattr__',\n",
       " '__dict__',\n",
       " '__dir__',\n",
       " '__doc__',\n",
       " '__eq__',\n",
       " '__format__',\n",
       " '__ge__',\n",
       " '__getattribute__',\n",
       " '__gt__',\n",
       " '__hash__',\n",
       " '__init__',\n",
       " '__init_subclass__',\n",
       " '__le__',\n",
       " '__lt__',\n",
       " '__module__',\n",
       " '__ne__',\n",
       " '__new__',\n",
       " '__reduce__',\n",
       " '__reduce_ex__',\n",
       " '__repr__',\n",
       " '__setattr__',\n",
       " '__sizeof__',\n",
       " '__str__',\n",
       " '__subclasshook__',\n",
       " '__weakref__',\n",
       " 'bootstrap',\n",
       " 'distance',\n",
       " 'left',\n",
       " 'name',\n",
       " 'parent',\n",
       " 'right']"
      ]
     },
     "execution_count": 30,
     "metadata": {},
     "output_type": "execute_result"
    }
   ],
   "source": [
    "dir(nodes[8])"
   ]
  },
  {
   "cell_type": "markdown",
   "id": "48a76470-7334-451e-9cb2-c67de7c57d08",
   "metadata": {},
   "source": [
    "Notice that in our tree ony the leaves have a name"
   ]
  },
  {
   "cell_type": "code",
   "execution_count": 31,
   "id": "0353d5c3-953b-4807-b694-630dcfafa898",
   "metadata": {},
   "outputs": [
    {
     "data": {
      "text/plain": [
       "'D'"
      ]
     },
     "execution_count": 31,
     "metadata": {},
     "output_type": "execute_result"
    }
   ],
   "source": [
    "nodes[8].name"
   ]
  },
  {
   "cell_type": "markdown",
   "id": "6204b381-d79f-437d-b3fc-864592338816",
   "metadata": {},
   "source": [
    "Intermediate nodes have the empty string as name"
   ]
  },
  {
   "cell_type": "code",
   "execution_count": 32,
   "id": "3486b563-58a5-4dfe-99e4-4fbe6bc33b35",
   "metadata": {},
   "outputs": [
    {
     "data": {
      "text/plain": [
       "''"
      ]
     },
     "execution_count": 32,
     "metadata": {},
     "output_type": "execute_result"
    }
   ],
   "source": [
    "nodes[2].name "
   ]
  },
  {
   "cell_type": "markdown",
   "id": "6dd248ed-71fa-43da-be33-70def35e6334",
   "metadata": {},
   "source": [
    "The parent of node 8 is node 6"
   ]
  },
  {
   "cell_type": "code",
   "execution_count": 33,
   "id": "892c0951-cde4-4ca9-ba20-d5dbe6692cf9",
   "metadata": {},
   "outputs": [
    {
     "data": {
      "text/plain": [
       "6"
      ]
     },
     "execution_count": 33,
     "metadata": {},
     "output_type": "execute_result"
    }
   ],
   "source": [
    "nodes[8].parent"
   ]
  },
  {
   "cell_type": "markdown",
   "id": "9f80166f-e2f1-43b4-bd1a-d1ca3edbe21a",
   "metadata": {},
   "source": [
    "Node 8 is actually the left child of node 6; its sister is node 7."
   ]
  },
  {
   "cell_type": "code",
   "execution_count": 35,
   "id": "1d66a731-649a-4ce5-ae3b-eb17a2122e19",
   "metadata": {},
   "outputs": [
    {
     "name": "stdout",
     "output_type": "stream",
     "text": [
      "8\n",
      "8\n",
      "7\n"
     ]
    }
   ],
   "source": [
    "print(nodes[6].left)\n",
    "print(nodes[0].left)\n",
    "print(nodes[6].right)"
   ]
  },
  {
   "cell_type": "markdown",
   "id": "bb8faf0c-11c6-4018-b604-924f87e5640d",
   "metadata": {
    "tags": []
   },
   "source": [
    "To get the name of the left child of node 6 we can do this:"
   ]
  },
  {
   "cell_type": "code",
   "execution_count": null,
   "id": "86ca40f6-71c5-4b88-b45a-94271545231c",
   "metadata": {},
   "outputs": [],
   "source": [
    "nodes[nodes[6].left].name"
   ]
  },
  {
   "cell_type": "markdown",
   "id": "b91d7579-0b12-4f14-8fbd-004011a90407",
   "metadata": {},
   "source": [
    "The childs of node 8 are ..."
   ]
  },
  {
   "cell_type": "code",
   "execution_count": null,
   "id": "1606046f-6abb-4e82-ae60-6f4afe1f05bd",
   "metadata": {},
   "outputs": [],
   "source": [
    "print(nodes[8].left)\n",
    "print(nodes[8].right)"
   ]
  },
  {
   "cell_type": "markdown",
   "id": "ed76b4e1-23b5-431a-8b44-633eef7040ba",
   "metadata": {},
   "source": [
    "Well... node 8 does not have (left or right) childs since node 8 is a leaf and leaves do not have childs."
   ]
  },
  {
   "cell_type": "markdown",
   "id": "396bfaa6-5f17-4f1f-b78a-67ff873bba74",
   "metadata": {},
   "source": [
    "**Draw the tree in a piece of paper**. Itendify the id and name (if any) of all nodes. Write who is left or right child. This is going to help you later in understanding what is going on. "
   ]
  },
  {
   "cell_type": "markdown",
   "id": "01ec4194-9e30-43ca-a0b3-d6c6189cbb16",
   "metadata": {},
   "source": [
    "Do the exercises from the **Playing with trees** section in https://acordomi.github.io/BDBI_ASAB/"
   ]
  }
 ],
 "metadata": {
  "kernelspec": {
   "display_name": "Python 3 (ipykernel)",
   "language": "python",
   "name": "python3"
  },
  "language_info": {
   "codemirror_mode": {
    "name": "ipython",
    "version": 3
   },
   "file_extension": ".py",
   "mimetype": "text/x-python",
   "name": "python",
   "nbconvert_exporter": "python",
   "pygments_lexer": "ipython3",
   "version": "3.9.12"
  }
 },
 "nbformat": 4,
 "nbformat_minor": 5
}
