{
 "cells": [
  {
   "cell_type": "markdown",
   "id": "85238ddc",
   "metadata": {},
   "source": [
    "# Building the K-mer spectra from a genome\n",
    "\n",
    "Write functions to:\n",
    "1. Calculate k-mers from DNA sequences. Check it on a sequence with L=33 using k=21. Seq='ATGGACCAGATATAGGGAGAGCCAGGTAGGACA'  How many kmers do you expect from it?\n",
    "2. Calculate them directly from a FASTA file (example fastas read.fasta and Theileria provided)\n",
    "3. Adapt the functions in a python program to plot the k-mer spectra of a fasta file. Apply this to a bacterial genome, Klebsiella pneumoniae:GCF_000240185.1_ASM24018v2_genomic.fasta\n",
    "4. Optional Assignment (via Moodle): write a .py to do this and the plots you get with k=8\n",
    "\n",
    "Information: \n",
    "--------------\n",
    "A method of visualizing k-mers, the k-mer spectrum, shows the multiplicity of each k-mer in a sequence versus the number of k-mers with that multiplicity (see  https://en.wikipedia.org/wiki/K-mer). This is a sort of density plot, notation varies a bit the x-axis basically shows multiplicity of each kmer (number of time is repeated in the sequences or genome) and the y-axis the number of kmers at a given multiplicity (e.g. how many kmers appear 1,2,3,...100 times in the genome). For these reasons, the y-axis is sometimes called frequency and the x-axis counts by some programs.\n",
    "\n",
    "In the case of reads, the multiplicity is \"amplified\" by the sequencing coverage.\n"
   ]
  },
  {
   "cell_type": "code",
   "execution_count": 7,
   "id": "bae99b4d",
   "metadata": {},
   "outputs": [
    {
     "name": "stdout",
     "output_type": "stream",
     "text": [
      "['ATGGACCAGATATAGGGAGAG', 'TGGACCAGATATAGGGAGAGC', 'GGACCAGATATAGGGAGAGCC', 'GACCAGATATAGGGAGAGCCA', 'ACCAGATATAGGGAGAGCCAG', 'CCAGATATAGGGAGAGCCAGG', 'CAGATATAGGGAGAGCCAGGT', 'AGATATAGGGAGAGCCAGGTA', 'GATATAGGGAGAGCCAGGTAG', 'ATATAGGGAGAGCCAGGTAGG', 'TATAGGGAGAGCCAGGTAGGA', 'ATAGGGAGAGCCAGGTAGGAC', 'TAGGGAGAGCCAGGTAGGACA']\n"
     ]
    }
   ],
   "source": [
    "'''\n",
    "Function that extracts the k-mers from a determined sequence of DNA\n",
    "Parameters: DNA sequence, size of k\n",
    "'''\n",
    "def create_kmers(seq, k_size):\n",
    "    \n",
    "\tkmers = [] # Creating an empty list to store the kmers\n",
    "\tn_k = len(seq) - k_size + 1 # Caalculating the kers that will be generated according to the formula\n",
    "\n",
    "\t# Iteration that goes through all the kmers that will be generated (calculated previously)\n",
    "\tfor i in range(n_k):\n",
    "\n",
    "\t\tkmer = seq[i : i + k_size] # Getting each kmer from the input sequence with a slide window that has a size of k_size\n",
    "\t\tkmers.append(kmer) # Appending the kmer to the list\n",
    "    \n",
    "\t\n",
    "\treturn kmers # Returning the list kmers\n",
    "\n",
    "'''\n",
    "Implementing the create_kmer function\n",
    "'''\n",
    "\n",
    "seq = \"ATGGACCAGATATAGGGAGAGCCAGGTAGGACA\"\n",
    "k_size = 21\n",
    "\n",
    "kmers = create_kmers(seq, k_size)\n",
    "\n",
    "print(kmers)"
   ]
  },
  {
   "cell_type": "code",
   "execution_count": 8,
   "id": "68c7c6af",
   "metadata": {},
   "outputs": [
    {
     "name": "stdout",
     "output_type": "stream",
     "text": [
      "['TTTTTTTTTTTTTTATTTGCGTTGAAGTATATTTATTCCCTGTAACTCTTGGTTCTTGTGACGTTGTTTATCCTAGAGTTAATCTTTATAGTTTATTGCTTCAGCCTATAGGTTTTGGACTTGTTGTATCTTCTGTATTTCTTGAAGTTGGAAATGGAACTGGATGGACACTGTATCCTCCTCTGTCCACTTCAATTGCTAGCGCTGGAATTGATTTTATTATATTTGGTCTTTTATCTGCTGGAATAGCAAGTACACTAAGTAGCGTAAATTTTATAACAACTTTTACTTCTATTAAGGTTATTGGATTTGTTATAGATAGAATTCTGCCTATTGCTTGGTCAATTGTTTTAACTTCTTTCTTATTGCTTTTATCTTTGCCTGTCGTTACTGCTGTATTTTTGATGGTATTTTTCGACAGACATTATAATACTATGTTTTTTGAATCTTCTAATTCTGGAGATCCTGTATTATATCAACATTTATTTTGGTTTTTTGGACATCCAGAAGTATATATAATGATACTGCCTGGATTTGGTGTAATAAGTTTAATGCTATCTACTTTTGCTACTAAAGAAATGTTTGGAAATCAAACTATGATTTTAGCGATGGGTTCTATAGCTTTGTTAGGATGTTTAGTTTGGGGACATCATATGTACACTTCTGGATTAGAAGCAGACACTAGAGGTTATTTCACTACAGTTACAATACTTATTTCTTTACCAACTGGAAATAAAGTATTTAATTGGGTAACAACTTTACAAGGTGCAACTACAGTTAGAAATATTGGAGTTGTGGTTTTCGGATTTTTATTTGTTATAAATTTTGTAATTGGAGGAACAACTGGAGTTGTTTTAGGTAATGCTGGTGTTGATATAGCTTTACATGATACTGTATATGTTGTTGGACATTTTCATTTTGTATTGTCAATAGGAGCTATAACATCATTGCTATGTTACATAATGTATATTCAAAGAATGTTATATGGTGTTATATTTAAAAATAAAGTTATTCTTATAATGGCCCCAATATTTATGTCAGCTGTTATGTGTACATTCTTTCCAATGCATTTCGCAGGATTTGCTCCTTTTCCTAGAAGAATACCAGATTATCCTGATGGAATATGGGGATGGAATTTTATATGTACTATTGGAGCTACTATGATGTTGATATTAAAATTTGCAATTATAATGGCAATATCATTATAAACTAATATTAATGGTTTTAAAATCTGAGGGGAAGTTCCGCCGGGAAGTTGGCGTCTAAGAGAGTCTTGTTTCAAATGTATATTTGATGAAGCCGGAGTACGTAAGGAATAGGAAAGATTAACCGCTATCAAAATCTTTTATAATTTTGATGTTAGAAAACATTTTAAATACATTAATTTGTATATTTTTTATAATTGCACTAAGTCAGAATCATCCTATTTATCAGTACATTAACGTGTTACAAATTCTTTGCCTTGGATGTCAGTTATTGCGTTAACTACATATTGAAATGTTAGAGGTAGTGTAATCAGTGGAACATATTGTTTAATTTGATTCTACACACTATATCTTACTGATAATTTTTCGTAATTAAATATTTCAGTAAATATTGTAATCTAACTTTATTTAATACTCTAGTATTAACCTTACACCGTTAAAATGGTGTTGGAAAAAATAAAGTTAACAGATAAATTCCATTTGAACAATTATAGATTGTTCTCTGTGAAATCTTTTATGAAGAGAAATGACCTATTATAAGTTACTGTATATACTGATATTTTCATTACTCAAATTAACATAATTCCAGAAGGTTTTGTATTGTTATTATATTTTAAAAATATTTGAGAGTAGAAAGAAAGATGATGGAAGTTGGAATTGATATTAGACGTCAAAAAGTACTAGACGTTGAATGTGTCTTAGCAGTGTTATATATAACTACATAAAGTATTTCAAACTTTTCTATATAAAATTGATTACAGCATTCAAGCATACATAAGGATTGGATATCATATTGAAAGATCATGCAGTGCCAGCAGCCGCGGCAATACTGTATAATCCGAGTATAGTAAATTCATATTTGGCAAAAAACGAGTTCATGTTTGAGAAGATTATGTGATATATATATTCTACATAAATTTTAATACAGAGCTAGAACATATAGTTGGCACGAAGGTACGCCAGGGACAACAGGCCAAAGGTTAATTACAGATCTTATGTAATTAACCTATTGACACCTCCATGTCGTCTCACCATACCTTAATGTTTTGCAAGACTTTGAAAAGAGAAGTACAGGTGCCCAGGGTCTCAACGTCCCCAGTATATCAAGCTTCCTATTCAAAGCTAAGTCTATAACATAGAGAACTTAGTGGAGACAATAGAGAAGACGTAGAGCCATAAACCGATACTATTATTTAGACTAATATCAGTTACAAATACGCAAGGACCATCAGAAGGACCATAAGGCAACGAAAAGGACTCAGACAAGACATCGATTTAACCTTAACTTACCAAAGTTGACTCGAAGACGTACCGAAAAAAAATAGATAAATCATAAAAGACTACGAAATACCGGAAGCAAAAACAAACCGGGCAAAGATAAACACCAAAA']\n"
     ]
    }
   ],
   "source": [
    "'''\n",
    "Function that is able to read from a fasta file\n",
    "\n",
    "Input: path of the file we want to read\n",
    "\n",
    "Because in our case the file Theileria_2500bp has both upper and lower case we will adapt our function acordingly to it,\n",
    "we can do so by either converting everything to uppercase or lowercase, in our case we will do upper case\n",
    "'''\n",
    "\n",
    "def get_seq(file_path):\n",
    "\n",
    "    from Bio import SeqIO # Loaidng the library to manage fasta filess\n",
    "\n",
    "    records = list(SeqIO.parse(file_path, \"fasta\")) # Reading the fasta file and extracting the sequences into a list\n",
    "\n",
    "    sequences = [] # Creation of an empty list to store the sequences\n",
    "\n",
    "    # Iterating through each record of the fasta file\n",
    "    for rec in records:\n",
    "        \n",
    "        seq = rec.seq # Getting the sequence of the current record\n",
    "        seq = str(seq.upper()) # Formatting the sequence so that everything is in uppercase for easyer handling\n",
    "        sequences.append(seq) # Appending the formated sequence to the final list of sequences\n",
    "\n",
    "    return sequences # Returning the list of sequences\n",
    "\n",
    "'''\n",
    "Implemementation of the function get_seq\n",
    "'''\n",
    "\n",
    "import os # Library that I will use to get the path\n",
    "\n",
    "file_path = os.getcwd() + \"/fasta/Theileria_2500bp.fa\"\n",
    "\n",
    "sequences = get_seq(file_path)\n",
    "\n",
    "print(sequences)"
   ]
  },
  {
   "cell_type": "code",
   "execution_count": 10,
   "id": "924aa436",
   "metadata": {},
   "outputs": [
    {
     "name": "stdout",
     "output_type": "stream",
     "text": [
      "['CTCACATGATTCTTGCCTGCGGGTTGGGGTAGGAGTCAGAGTCACATGAGACAGATAGTTCGCTCAGAAACTGGGGATAGATCGATCAAAGCCTCGCTTC', 'TCACATGATTCTTGCCTGCGGGTTGGGGTAGGAGTCAGAGTCACATGAGACAGATAGTTCGCTCAGAAACTGGGGATAGATCGATCAAAGCCTCGCTTCA', 'CACATGATTCTTGCCTGCGGGTTGGGGTAGGAGTCAGAGTCACATGAGACAGATAGTTCGCTCAGAAACTGGGGATAGATCGATCAAAGCCTCGCTTCAT', 'ACATGATTCTTGCCTGCGGGTTGGGGTAGGAGTCAGAGTCACATGAGACAGATAGTTCGCTCAGAAACTGGGGATAGATCGATCAAAGCCTCGCTTCATA', 'CATGATTCTTGCCTGCGGGTTGGGGTAGGAGTCAGAGTCACATGAGACAGATAGTTCGCTCAGAAACTGGGGATAGATCGATCAAAGCCTCGCTTCATAT', 'ATGATTCTTGCCTGCGGGTTGGGGTAGGAGTCAGAGTCACATGAGACAGATAGTTCGCTCAGAAACTGGGGATAGATCGATCAAAGCCTCGCTTCATATG', 'TGATTCTTGCCTGCGGGTTGGGGTAGGAGTCAGAGTCACATGAGACAGATAGTTCGCTCAGAAACTGGGGATAGATCGATCAAAGCCTCGCTTCATATGG', 'GATTCTTGCCTGCGGGTTGGGGTAGGAGTCAGAGTCACATGAGACAGATAGTTCGCTCAGAAACTGGGGATAGATCGATCAAAGCCTCGCTTCATATGGC', 'ATTCTTGCCTGCGGGTTGGGGTAGGAGTCAGAGTCACATGAGACAGATAGTTCGCTCAGAAACTGGGGATAGATCGATCAAAGCCTCGCTTCATATGGCT', 'TTCTTGCCTGCGGGTTGGGGTAGGAGTCAGAGTCACATGAGACAGATAGTTCGCTCAGAAACTGGGGATAGATCGATCAAAGCCTCGCTTCATATGGCTC', 'TCTTGCCTGCGGGTTGGGGTAGGAGTCAGAGTCACATGAGACAGATAGTTCGCTCAGAAACTGGGGATAGATCGATCAAAGCCTCGCTTCATATGGCTCC', 'CTTGCCTGCGGGTTGGGGTAGGAGTCAGAGTCACATGAGACAGATAGTTCGCTCAGAAACTGGGGATAGATCGATCAAAGCCTCGCTTCATATGGCTCCA', 'TTGCCTGCGGGTTGGGGTAGGAGTCAGAGTCACATGAGACAGATAGTTCGCTCAGAAACTGGGGATAGATCGATCAAAGCCTCGCTTCATATGGCTCCAC', 'TGCCTGCGGGTTGGGGTAGGAGTCAGAGTCACATGAGACAGATAGTTCGCTCAGAAACTGGGGATAGATCGATCAAAGCCTCGCTTCATATGGCTCCACA', 'GCCTGCGGGTTGGGGTAGGAGTCAGAGTCACATGAGACAGATAGTTCGCTCAGAAACTGGGGATAGATCGATCAAAGCCTCGCTTCATATGGCTCCACAT', 'CCTGCGGGTTGGGGTAGGAGTCAGAGTCACATGAGACAGATAGTTCGCTCAGAAACTGGGGATAGATCGATCAAAGCCTCGCTTCATATGGCTCCACATG', 'CTGCGGGTTGGGGTAGGAGTCAGAGTCACATGAGACAGATAGTTCGCTCAGAAACTGGGGATAGATCGATCAAAGCCTCGCTTCATATGGCTCCACATGG', 'TGCGGGTTGGGGTAGGAGTCAGAGTCACATGAGACAGATAGTTCGCTCAGAAACTGGGGATAGATCGATCAAAGCCTCGCTTCATATGGCTCCACATGGT', 'GCGGGTTGGGGTAGGAGTCAGAGTCACATGAGACAGATAGTTCGCTCAGAAACTGGGGATAGATCGATCAAAGCCTCGCTTCATATGGCTCCACATGGTG', 'CGGGTTGGGGTAGGAGTCAGAGTCACATGAGACAGATAGTTCGCTCAGAAACTGGGGATAGATCGATCAAAGCCTCGCTTCATATGGCTCCACATGGTGT', 'GGGTTGGGGTAGGAGTCAGAGTCACATGAGACAGATAGTTCGCTCAGAAACTGGGGATAGATCGATCAAAGCCTCGCTTCATATGGCTCCACATGGTGTT']\n"
     ]
    }
   ],
   "source": [
    "def kmers_from_file(file_path, k_size):\n",
    "\n",
    "    kmers = [] # Creating an empty list to store the kmers\n",
    "\n",
    "    sequences = get_seq(file_path)  # Using our previously created function to get all the sequences from the fasta file\n",
    "\n",
    "    # Iterting through each of the sequences\n",
    "    for seq in sequences:\n",
    "\n",
    "        sub_kmers = create_kmers(seq, k_size)  # Getting all possible kmers from a sequence\n",
    "        kmers += sub_kmers # Putting all the sub_kmers into the list with all of them\n",
    "\n",
    "    return(kmers) # Getting the list with all of the kmers\n",
    "\n",
    "'''\n",
    "Implementation of the function kmers_from_file\n",
    "'''\n",
    "\n",
    "import os\n",
    "\n",
    "file_path = os.getcwd() + \"/fasta/read.fasta\" # Path of the file\n",
    "k_size = 100\n",
    "\n",
    "kmers = kmers_from_file(file_path, k_size)\n",
    "\n",
    "print(kmers)"
   ]
  },
  {
   "cell_type": "code",
   "execution_count": 17,
   "id": "4f3cb5e4",
   "metadata": {},
   "outputs": [
    {
     "data": {
      "image/png": "[encoded data removed]",
      "text/plain": [
       "<Figure size 432x288 with 1 Axes>"
      ]
     },
     "metadata": {
      "needs_background": "light"
     },
     "output_type": "display_data"
    }
   ],
   "source": [
    "'''\n",
    "Function to generate a plot from a k-mer Spectra of a determined file\n",
    "\n",
    "\n",
    "\n",
    "Input: a the path to the file we want to create the k-mer spectra graph and the size k\n",
    "'''\n",
    "def kmer_spectra_graph(file_path, k_size):\n",
    "\n",
    "    kmers = kmers_from_file(file_path, k_size) # Using the function kmers_from_file to get the kmers from a fasta file\n",
    "\n",
    "    '''\n",
    "    Getting the multiplicity of each k-mer:\n",
    "    '''\n",
    "\n",
    "    mult = {} # Creation of a dictionary to store all the counts for each of the kmer\n",
    "\n",
    "    # Iterating throuhg all of the k-mer\n",
    "    for k in kmers:\n",
    "\n",
    "        k = str(k) # Making k a string\n",
    "\n",
    "        # Checking if k is in the dictionary multiplicity\n",
    "        if k in mult.keys():\n",
    "\n",
    "            mult[k] += 1 # If the previous condition is met we increment te count for a given k-mer\n",
    "\n",
    "        else:\n",
    "\n",
    "            mult[k] = 1 # If there is no record of k we create one and assign it's count to 1\n",
    "\n",
    "    '''\n",
    "    Creation of the plot\n",
    "    '''\n",
    "    # Importing libraries to create the plots\n",
    "    import pandas as pd\n",
    "    import matplotlib.pyplot as plt\n",
    "    \n",
    "    # Creating the data frame from the dictionary mult\n",
    "    df = pd.DataFrame(list(mult.items()), columns=['Kmer', 'Counts'])\n",
    "    \n",
    "    # Adding a new column \"Frequenccy\" into the data frame and storing the info of each k-mer with its corresponding count\n",
    "    df['Frequency'] = df.groupby('Counts')['Kmer'].transform('size')\n",
    "    \n",
    "    plt.scatter(x=df['Counts'], y=df['Frequency'], s=1) # Creating a scatter plot of k-mer frequency versus k-mer count\n",
    "    \n",
    "    # Names of the axis\n",
    "    plt.xlabel('Kmer Count')\n",
    "    plt.ylabel('Kmer Frequency')\n",
    "    plt.title('Kmer Spectra')\n",
    "\n",
    "'''\n",
    "Implementation of the funtion kmer_spectra_graph\n",
    "'''\n",
    "import os\n",
    "\n",
    "file_path = os.getcwd() + \"/fasta/GCF_000240185.1_ASM24018v2_genomic.fasta\" # Path of the file\n",
    "k_size = 8\n",
    "\n",
    "kmer_spectra_graph(file_path, k_size)"
   ]
  }
 ],
 "metadata": {
  "kernelspec": {
   "display_name": "Python 3 (ipykernel)",
   "language": "python",
   "name": "python3"
  },
  "language_info": {
   "codemirror_mode": {
    "name": "ipython",
    "version": 3
   },
   "file_extension": ".py",
   "mimetype": "text/x-python",
   "name": "python",
   "nbconvert_exporter": "python",
   "pygments_lexer": "ipython3",
   "version": "3.9.12"
  }
 },
 "nbformat": 4,
 "nbformat_minor": 5
}
